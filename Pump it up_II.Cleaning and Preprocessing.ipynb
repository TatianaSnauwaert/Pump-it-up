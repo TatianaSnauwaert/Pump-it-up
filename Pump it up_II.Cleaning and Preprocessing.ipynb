{
 "cells": [
  {
   "cell_type": "markdown",
   "metadata": {
    "_cell_guid": "79c7e3d0-c299-4dcb-8224-4455121ee9b0",
    "_uuid": "d629ff2d2480ee46fbb7e2d37f6b5fab8052498a",
    "collapsed": true
   },
   "source": [
    "# Pump it Up: Data Mining the Water Table\n",
    "\n",
    "### Can you predict which water pumps are faulty?\n",
    "\n",
    "Using data from Taarifa and the Tanzanian Ministry of Water, we are trying to predict which pumps are functional, which need some repairs, and which don't work at all based on a number of variables about what kind of pump is operating, when it was installed, and how it is managed. \n",
    "\n",
    "A smart understanding of which waterpoints will fail can improve maintenance operations and ensure that clean, potable water is available to communities across Tanzania."
   ]
  },
  {
   "cell_type": "code",
   "execution_count": 156,
   "metadata": {},
   "outputs": [
    {
     "name": "stdout",
     "output_type": "stream",
     "text": [
      "Setup Complete\n"
     ]
    }
   ],
   "source": [
    "import pandas as pd\n",
    "import numpy as np\n",
    "import seaborn as sns\n",
    "import matplotlib.pyplot as plt\n",
    "import matplotlib.pylab as pylab\n",
    "%matplotlib inline\n",
    "\n",
    "\n",
    "print(\"Setup Complete\")"
   ]
  },
  {
   "cell_type": "code",
   "execution_count": 157,
   "metadata": {},
   "outputs": [],
   "source": [
    "# Load the data after EDA\n",
    "train_df = pd.read_csv(\"train_df\")\n",
    "X_test = pd.read_csv(\"X_test\")"
   ]
  },
  {
   "cell_type": "markdown",
   "metadata": {},
   "source": [
    "# 2. Data Cleaning & Preprocessing"
   ]
  },
  {
   "cell_type": "markdown",
   "metadata": {},
   "source": [
    "## 2.1 Dropping the features containing similar information"
   ]
  },
  {
   "cell_type": "markdown",
   "metadata": {},
   "source": [
    "The following groups of features\n",
    "\n",
    "- (extraction_type, extraction_type_group, extraction_type_class),\n",
    "- (payment, payment_type),\n",
    "- (water_quality, quality_group),\n",
    "- (source, source_class),\n",
    "- (subvillage, region, region_code, district_code, lga, ward),\n",
    "- (waterpoint_type, waterpoint_type_group)\n",
    "- (scheme_name, scheme_management)\n",
    "\n",
    "contain very similar information, so the correlation between them is high. This way we are risking overfitting the training data by including all the features in our analysis.\n",
    "\n",
    "Besides:\n",
    "\n",
    "num_private is ~99% zeros and has no description, so we cannot interpret it\n",
    "in the wpt_name feature 45k unique values out of 75k observations, not very informative -> drop for now\n",
    "\n",
    "**TO DO**: The correlation between \"construction_year\" and \"gps_height\" is high, but these 2 variables don't have any obvious connection, so explore this correlation further to take a decision.\n",
    "\n",
    "As we saw earlier, there exists quite a strong correlation between district_code and region_code, so we will drop one of these variables. The negative correlation to the target variable of the \"region_code\" is higher than that of the \"district_code\". Keep the variable with higher correlation to the target."
   ]
  },
  {
   "cell_type": "code",
   "execution_count": 158,
   "metadata": {},
   "outputs": [],
   "source": [
    "# drop columns\n",
    "train_df = train_df.drop(['installer','management_group','status_group','id_x','id_y', 'num_private', 'wpt_name', \n",
    "          'recorded_by', 'subvillage', 'scheme_name', 'region', \n",
    "          'quantity', 'water_quality', 'lga','ward', 'source_type', 'payment', \n",
    "          'waterpoint_type_group','extraction_type_group','extraction_type_class'],axis=1)\n",
    "X_test = X_test.drop(['installer','management_group','id', 'num_private', 'wpt_name', \n",
    "          'recorded_by', 'subvillage', 'scheme_name', 'region', \n",
    "          'quantity', 'water_quality', 'lga','ward', 'source_type', 'payment', \n",
    "          'waterpoint_type_group','extraction_type_group','extraction_type_class'],axis=1)"
   ]
  },
  {
   "cell_type": "code",
   "execution_count": 159,
   "metadata": {},
   "outputs": [
    {
     "data": {
      "text/html": [
       "<div>\n",
       "<style scoped>\n",
       "    .dataframe tbody tr th:only-of-type {\n",
       "        vertical-align: middle;\n",
       "    }\n",
       "\n",
       "    .dataframe tbody tr th {\n",
       "        vertical-align: top;\n",
       "    }\n",
       "\n",
       "    .dataframe thead th {\n",
       "        text-align: right;\n",
       "    }\n",
       "</style>\n",
       "<table border=\"1\" class=\"dataframe\">\n",
       "  <thead>\n",
       "    <tr style=\"text-align: right;\">\n",
       "      <th></th>\n",
       "      <th>amount_tsh</th>\n",
       "      <th>date_recorded</th>\n",
       "      <th>funder</th>\n",
       "      <th>gps_height</th>\n",
       "      <th>longitude</th>\n",
       "      <th>latitude</th>\n",
       "      <th>basin</th>\n",
       "      <th>region_code</th>\n",
       "      <th>district_code</th>\n",
       "      <th>population</th>\n",
       "      <th>...</th>\n",
       "      <th>construction_year</th>\n",
       "      <th>extraction_type</th>\n",
       "      <th>management</th>\n",
       "      <th>payment_type</th>\n",
       "      <th>quality_group</th>\n",
       "      <th>quantity_group</th>\n",
       "      <th>source</th>\n",
       "      <th>source_class</th>\n",
       "      <th>waterpoint_type</th>\n",
       "      <th>label</th>\n",
       "    </tr>\n",
       "  </thead>\n",
       "  <tbody>\n",
       "    <tr>\n",
       "      <th>0</th>\n",
       "      <td>6000.0</td>\n",
       "      <td>2011-03-14</td>\n",
       "      <td>Roman</td>\n",
       "      <td>1390</td>\n",
       "      <td>34.938093</td>\n",
       "      <td>-9.856322</td>\n",
       "      <td>Lake Nyasa</td>\n",
       "      <td>11</td>\n",
       "      <td>5</td>\n",
       "      <td>109</td>\n",
       "      <td>...</td>\n",
       "      <td>1999</td>\n",
       "      <td>gravity</td>\n",
       "      <td>vwc</td>\n",
       "      <td>annually</td>\n",
       "      <td>good</td>\n",
       "      <td>enough</td>\n",
       "      <td>spring</td>\n",
       "      <td>groundwater</td>\n",
       "      <td>communal standpipe</td>\n",
       "      <td>2</td>\n",
       "    </tr>\n",
       "    <tr>\n",
       "      <th>1</th>\n",
       "      <td>0.0</td>\n",
       "      <td>2013-03-06</td>\n",
       "      <td>Grumeti</td>\n",
       "      <td>1399</td>\n",
       "      <td>34.698766</td>\n",
       "      <td>-2.147466</td>\n",
       "      <td>Lake Victoria</td>\n",
       "      <td>20</td>\n",
       "      <td>2</td>\n",
       "      <td>280</td>\n",
       "      <td>...</td>\n",
       "      <td>2010</td>\n",
       "      <td>gravity</td>\n",
       "      <td>wug</td>\n",
       "      <td>never pay</td>\n",
       "      <td>good</td>\n",
       "      <td>insufficient</td>\n",
       "      <td>rainwater harvesting</td>\n",
       "      <td>surface</td>\n",
       "      <td>communal standpipe</td>\n",
       "      <td>2</td>\n",
       "    </tr>\n",
       "    <tr>\n",
       "      <th>2</th>\n",
       "      <td>25.0</td>\n",
       "      <td>2013-02-25</td>\n",
       "      <td>Lottery Club</td>\n",
       "      <td>686</td>\n",
       "      <td>37.460664</td>\n",
       "      <td>-3.821329</td>\n",
       "      <td>Pangani</td>\n",
       "      <td>21</td>\n",
       "      <td>4</td>\n",
       "      <td>250</td>\n",
       "      <td>...</td>\n",
       "      <td>2009</td>\n",
       "      <td>gravity</td>\n",
       "      <td>vwc</td>\n",
       "      <td>per bucket</td>\n",
       "      <td>good</td>\n",
       "      <td>enough</td>\n",
       "      <td>dam</td>\n",
       "      <td>surface</td>\n",
       "      <td>communal standpipe multiple</td>\n",
       "      <td>2</td>\n",
       "    </tr>\n",
       "    <tr>\n",
       "      <th>3</th>\n",
       "      <td>0.0</td>\n",
       "      <td>2013-01-28</td>\n",
       "      <td>Unicef</td>\n",
       "      <td>263</td>\n",
       "      <td>38.486161</td>\n",
       "      <td>-11.155298</td>\n",
       "      <td>Ruvuma / Southern Coast</td>\n",
       "      <td>90</td>\n",
       "      <td>63</td>\n",
       "      <td>58</td>\n",
       "      <td>...</td>\n",
       "      <td>1986</td>\n",
       "      <td>submersible</td>\n",
       "      <td>vwc</td>\n",
       "      <td>never pay</td>\n",
       "      <td>good</td>\n",
       "      <td>dry</td>\n",
       "      <td>machine dbh</td>\n",
       "      <td>groundwater</td>\n",
       "      <td>communal standpipe multiple</td>\n",
       "      <td>0</td>\n",
       "    </tr>\n",
       "    <tr>\n",
       "      <th>4</th>\n",
       "      <td>0.0</td>\n",
       "      <td>2011-07-13</td>\n",
       "      <td>Action In A</td>\n",
       "      <td>0</td>\n",
       "      <td>31.130847</td>\n",
       "      <td>-1.825359</td>\n",
       "      <td>Lake Victoria</td>\n",
       "      <td>18</td>\n",
       "      <td>1</td>\n",
       "      <td>0</td>\n",
       "      <td>...</td>\n",
       "      <td>0</td>\n",
       "      <td>gravity</td>\n",
       "      <td>other</td>\n",
       "      <td>never pay</td>\n",
       "      <td>good</td>\n",
       "      <td>seasonal</td>\n",
       "      <td>rainwater harvesting</td>\n",
       "      <td>surface</td>\n",
       "      <td>communal standpipe</td>\n",
       "      <td>2</td>\n",
       "    </tr>\n",
       "  </tbody>\n",
       "</table>\n",
       "<p>5 rows × 23 columns</p>\n",
       "</div>"
      ],
      "text/plain": [
       "   amount_tsh date_recorded        funder  gps_height  longitude   latitude  \\\n",
       "0      6000.0    2011-03-14         Roman        1390  34.938093  -9.856322   \n",
       "1         0.0    2013-03-06       Grumeti        1399  34.698766  -2.147466   \n",
       "2        25.0    2013-02-25  Lottery Club         686  37.460664  -3.821329   \n",
       "3         0.0    2013-01-28        Unicef         263  38.486161 -11.155298   \n",
       "4         0.0    2011-07-13   Action In A           0  31.130847  -1.825359   \n",
       "\n",
       "                     basin  region_code  district_code  population  ...   \\\n",
       "0               Lake Nyasa           11              5         109  ...    \n",
       "1            Lake Victoria           20              2         280  ...    \n",
       "2                  Pangani           21              4         250  ...    \n",
       "3  Ruvuma / Southern Coast           90             63          58  ...    \n",
       "4            Lake Victoria           18              1           0  ...    \n",
       "\n",
       "  construction_year extraction_type management  payment_type quality_group  \\\n",
       "0              1999         gravity        vwc      annually          good   \n",
       "1              2010         gravity        wug     never pay          good   \n",
       "2              2009         gravity        vwc    per bucket          good   \n",
       "3              1986     submersible        vwc     never pay          good   \n",
       "4                 0         gravity      other     never pay          good   \n",
       "\n",
       "  quantity_group                source source_class  \\\n",
       "0         enough                spring  groundwater   \n",
       "1   insufficient  rainwater harvesting      surface   \n",
       "2         enough                   dam      surface   \n",
       "3            dry           machine dbh  groundwater   \n",
       "4       seasonal  rainwater harvesting      surface   \n",
       "\n",
       "               waterpoint_type label  \n",
       "0           communal standpipe     2  \n",
       "1           communal standpipe     2  \n",
       "2  communal standpipe multiple     2  \n",
       "3  communal standpipe multiple     0  \n",
       "4           communal standpipe     2  \n",
       "\n",
       "[5 rows x 23 columns]"
      ]
     },
     "execution_count": 159,
     "metadata": {},
     "output_type": "execute_result"
    }
   ],
   "source": [
    "train_df.head()"
   ]
  },
  {
   "cell_type": "markdown",
   "metadata": {},
   "source": [
    "## 2.2 Dealing with missing values"
   ]
  },
  {
   "cell_type": "code",
   "execution_count": 160,
   "metadata": {},
   "outputs": [],
   "source": [
    "# Categorical columns\n",
    "\n",
    "## Replacing null subvillage values with the most frequent values of subvillage for that region_code\n",
    "lat_map_na = train_df.groupby('region_code')['latitude'].agg(lambda x: pd.Series.mode(x)[0]).to_dict()\n",
    "long_map_na = train_df.groupby('region_code')['longitude'].agg(lambda x: pd.Series.mode(x)[0]).to_dict()\n",
    "pop_map_na = train_df.groupby('region_code')['population'].agg(lambda x: pd.Series.mode(x)[0]).to_dict()\n",
    "gps_map_na = train_df.groupby('region_code')['gps_height'].agg(lambda x: pd.Series.mode(x)[0]).to_dict()\n",
    "\n",
    "lat_mask = (train_df.latitude.isnull()) & (train_df.loc[train_df[\"latitude\"] == 0, \"latitude\"])\n",
    "long_mask = (train_df.longitude.isnull()) & (train_df.loc[train_df[\"longitude\"] == 0, \"longitude\"])\n",
    "pop_mask = (train_df.population.isnull()) & (train_df.loc[train_df['population'] == 0, 'population'])\n",
    "gps_mask = (train_df.gps_height.isnull()) & (train_df.loc[train_df['gps_height'] == 0, 'gps_height'])\n",
    "\n",
    "train_df.loc[lat_mask, 'latitude'] = train_df.loc[lat_mask, 'region_code'].map(lat_map_na)\n",
    "train_df.loc[long_mask, 'longitude'] = train_df.loc[long_mask, 'region_code'].map(long_map_na)\n",
    "train_df.loc[pop_mask, 'population'] = train_df.loc[pop_mask, 'region_code'].map(pop_map_na)\n",
    "train_df.loc[gps_mask, 'gps_height'] = train_df.loc[gps_mask, 'region_code'].map(gps_map_na)\n",
    "\n",
    "X_test.loc[lat_mask, 'latitude'] = X_test.loc[lat_mask, 'region_code'].map(lat_map_na)\n",
    "X_test.loc[long_mask, 'longitude'] = X_test.loc[long_mask, 'region_code'].map(long_map_na)\n",
    "X_test.loc[pop_mask, 'population'] = X_test.loc[pop_mask, 'region_code'].map(pop_map_na)\n",
    "X_test.loc[gps_mask, 'gps_height'] = X_test.loc[gps_mask, 'region_code'].map(gps_map_na)"
   ]
  },
  {
   "cell_type": "code",
   "execution_count": 161,
   "metadata": {},
   "outputs": [],
   "source": [
    "## Null scheme_management, funder, installer, public_meeting and permit values replace with \"unknown\" text\n",
    "train_df[\"scheme_management\"].fillna(\"unknown\", inplace = True)\n",
    "train_df[\"public_meeting\"].fillna(\"unknown\", inplace = True)\n",
    "train_df[\"permit\"].fillna(\"unknown\", inplace = True)\n",
    "train_df[\"funder\"].fillna(\"unknown\", inplace = True)\n",
    "# train_df[\"installer\"].fillna(\"unknown\", inplace = True)\n",
    "\n",
    "X_test[\"scheme_management\"].fillna(\"unknown\", inplace = True)\n",
    "X_test[\"public_meeting\"].fillna(\"unknown\", inplace = True)\n",
    "X_test[\"permit\"].fillna(\"unknown\", inplace = True)\n",
    "X_test[\"funder\"].fillna(\"unknown\", inplace = True)\n",
    "# X_test[\"installer\"].fillna(\"unknown\", inplace = True)"
   ]
  },
  {
   "cell_type": "code",
   "execution_count": 162,
   "metadata": {},
   "outputs": [
    {
     "data": {
      "text/plain": [
       "label                0\n",
       "public_meeting       0\n",
       "date_recorded        0\n",
       "funder               0\n",
       "gps_height           0\n",
       "longitude            0\n",
       "latitude             0\n",
       "basin                0\n",
       "region_code          0\n",
       "district_code        0\n",
       "population           0\n",
       "scheme_management    0\n",
       "waterpoint_type      0\n",
       "permit               0\n",
       "construction_year    0\n",
       "extraction_type      0\n",
       "management           0\n",
       "payment_type         0\n",
       "quality_group        0\n",
       "quantity_group       0\n",
       "source               0\n",
       "source_class         0\n",
       "amount_tsh           0\n",
       "dtype: int64"
      ]
     },
     "execution_count": 162,
     "metadata": {},
     "output_type": "execute_result"
    }
   ],
   "source": [
    "train_df.isna().sum().sort_values(ascending=False)"
   ]
  },
  {
   "cell_type": "code",
   "execution_count": 163,
   "metadata": {},
   "outputs": [
    {
     "data": {
      "text/plain": [
       "waterpoint_type      0\n",
       "source_class         0\n",
       "date_recorded        0\n",
       "funder               0\n",
       "gps_height           0\n",
       "longitude            0\n",
       "latitude             0\n",
       "basin                0\n",
       "region_code          0\n",
       "district_code        0\n",
       "population           0\n",
       "public_meeting       0\n",
       "scheme_management    0\n",
       "permit               0\n",
       "construction_year    0\n",
       "extraction_type      0\n",
       "management           0\n",
       "payment_type         0\n",
       "quality_group        0\n",
       "quantity_group       0\n",
       "source               0\n",
       "amount_tsh           0\n",
       "dtype: int64"
      ]
     },
     "execution_count": 163,
     "metadata": {},
     "output_type": "execute_result"
    }
   ],
   "source": [
    "X_test.isna().sum().sort_values(ascending=False)"
   ]
  },
  {
   "cell_type": "markdown",
   "metadata": {},
   "source": [
    "## ** 2.3 Transforming data to reduce skew\n",
    "Uni-modal, skewed distributions could potentially be log transformed: \n",
    "* Longtitude\n",
    "* GPS_hight\n",
    "* Region_code\n",
    "\n",
    "** For later"
   ]
  },
  {
   "cell_type": "markdown",
   "metadata": {},
   "source": [
    "## 2.3 Linear Discriminant Analysis (LDA)\n",
    "\n",
    "LDA helps reducing dimentiality by maximizing the difference between categories. In our highly dimentional model it is a great tool. We will use LDA for the following columns as all of them contain geographical information:\n",
    " \n",
    "- latitude\n",
    "- longitude\n",
    "- gps_height\n",
    "\n",
    "Reference: https://zlatankr.github.io/posts/2017/01/23/pump-it-up"
   ]
  },
  {
   "cell_type": "code",
   "execution_count": 164,
   "metadata": {},
   "outputs": [],
   "source": [
    "LDA_cols = [\"latitude\",\"longitude\",\"gps_height\"]\n",
    "\n",
    "from sklearn.preprocessing import StandardScaler\n",
    "sc = StandardScaler()\n",
    "\n",
    "train_df_sc = sc.fit_transform(train_df[LDA_cols])\n",
    "X_test_sc = sc.transform(X_test[LDA_cols])\n",
    "\n",
    "from sklearn.discriminant_analysis import LinearDiscriminantAnalysis as LDA\n",
    "lda = LDA(n_components=None)\n",
    "\n",
    "train_df_lda = lda.fit_transform(train_df_sc, train_df.label.values.ravel())\n",
    "X_test_lda = lda.transform(X_test_sc)\n",
    "\n",
    "train_df = pd.concat((pd.DataFrame(train_df_lda), train_df), axis=1)\n",
    "X_test = pd.concat((pd.DataFrame(X_test_lda), X_test), axis=1)\n",
    "    \n",
    "    \n",
    "for i in LDA_cols:\n",
    "    del train_df[i]\n",
    "    del X_test[i]"
   ]
  },
  {
   "cell_type": "markdown",
   "metadata": {},
   "source": [
    "## 2.4 Reducing cardinality"
   ]
  },
  {
   "cell_type": "code",
   "execution_count": 165,
   "metadata": {},
   "outputs": [
    {
     "data": {
      "text/plain": [
       "[('public_meeting', 3),\n",
       " ('permit', 3),\n",
       " ('source_class', 3),\n",
       " ('quantity_group', 5),\n",
       " ('quality_group', 6),\n",
       " ('payment_type', 7),\n",
       " ('waterpoint_type', 7),\n",
       " ('basin', 9),\n",
       " ('source', 10),\n",
       " ('management', 12),\n",
       " ('scheme_management', 13),\n",
       " ('extraction_type', 18),\n",
       " ('date_recorded', 356),\n",
       " ('funder', 1898)]"
      ]
     },
     "execution_count": 165,
     "metadata": {},
     "output_type": "execute_result"
    }
   ],
   "source": [
    "# Get number of unique entries in each column with categorical data\n",
    "cat_vars = train_df.select_dtypes(include='object').columns\n",
    "object_nunique = list(map(lambda col: train_df[col].nunique(), cat_vars))\n",
    "d = dict(zip(cat_vars, object_nunique))\n",
    "\n",
    "# Print number of unique entries by column, in ascending order\n",
    "sorted(d.items(), key=lambda x: x[1])"
   ]
  },
  {
   "cell_type": "markdown",
   "metadata": {},
   "source": [
    "Based on the above analysis:\n",
    "\n",
    "the \"recorded_by\" feature can be dropped as there is only 1 unique value, it doesn't help in predicting.\n",
    "\n",
    "The columns in which values can be ordered we can perform an Ordinal encoding: \n",
    "* quality_group\n",
    "* quantity_group\n",
    "* payment_type\n",
    "\n",
    "The cardinality of the following 2 features should be reduced to 10 and then one-hot encode them or try Binary encoding:\n",
    "* scheme_managenemt\n",
    "* extraction_type\n",
    "\n",
    "What to do with the following 3? The cardinality is too high... : --> will drop at the first model run, later could try Frequency encoding,Binary encoding if reduce cardinality to at least 100.\n",
    "* funder\n",
    "* installer\n",
    "* subvillage\n",
    "\n",
    "The rest can be one-hot encoded as the cardinality is lower than 10:\n",
    "* public_meeting # later -> Binary?\n",
    "* permit # later-> Binary?\n",
    "* source_class\n",
    "* management_group\n",
    "* waterpoint_type_group\n",
    "* source_type\n",
    "* basin"
   ]
  },
  {
   "cell_type": "code",
   "execution_count": 166,
   "metadata": {},
   "outputs": [
    {
     "data": {
      "text/plain": [
       "VWC                 36793\n",
       "WUG                  5206\n",
       "unknown              3877\n",
       "Water authority      3153\n",
       "WUA                  2883\n",
       "Water Board          2748\n",
       "Parastatal           1680\n",
       "Private operator     1063\n",
       "Company              1061\n",
       "Other                 766\n",
       "SWC                    97\n",
       "Trust                  72\n",
       "None                    1\n",
       "Name: scheme_management, dtype: int64"
      ]
     },
     "execution_count": 166,
     "metadata": {},
     "output_type": "execute_result"
    }
   ],
   "source": [
    "# Reduce cardinality for the following 4 features:\n",
    "## scheme_management\n",
    "## extraction_type\n",
    "## funder\n",
    "## installer\n",
    "train_df.scheme_management.value_counts()"
   ]
  },
  {
   "cell_type": "code",
   "execution_count": 167,
   "metadata": {},
   "outputs": [],
   "source": [
    "## scheme_management\n",
    "def scheme_wrangler(row):\n",
    "    if row['scheme_management']=='VWC':\n",
    "        return 'vwc'\n",
    "    elif row['scheme_management']=='WUG':\n",
    "        return 'wug'\n",
    "    elif row['scheme_management']=='Water authority':\n",
    "        return 'wtr_auth'\n",
    "    elif row['scheme_management']=='WUA':\n",
    "        return 'wua'\n",
    "    elif row['scheme_management']=='Water Board':\n",
    "        return 'wtr_brd'\n",
    "    elif row['scheme_management']=='Parastatal':\n",
    "        return 'Parastatal'\n",
    "    elif row['scheme_management']=='Private operator':\n",
    "        return 'pri_optr'\n",
    "    elif row['scheme_management']=='SWC':\n",
    "        return 'swc'\n",
    "    elif row['scheme_management']=='Company':\n",
    "        return 'company'\n",
    "    else:\n",
    "        return 'other'\n",
    "train_df['scheme_management'] = train_df.apply(lambda row: scheme_wrangler(row), axis=1)\n",
    "X_test['scheme_management'] = X_test.apply(lambda row: scheme_wrangler(row), axis=1)"
   ]
  },
  {
   "cell_type": "code",
   "execution_count": 168,
   "metadata": {},
   "outputs": [
    {
     "data": {
      "text/plain": [
       "gravity                      26780\n",
       "nira/tanira                   8154\n",
       "other                         6430\n",
       "submersible                   4764\n",
       "swn 80                        3670\n",
       "mono                          2865\n",
       "india mark ii                 2400\n",
       "afridev                       1770\n",
       "ksb                           1415\n",
       "other - rope pump              451\n",
       "other - swn 81                 229\n",
       "windmill                       117\n",
       "india mark iii                  98\n",
       "cemo                            90\n",
       "other - play pump               85\n",
       "walimi                          48\n",
       "climax                          32\n",
       "other - mkulima/shinyanga        2\n",
       "Name: extraction_type, dtype: int64"
      ]
     },
     "execution_count": 168,
     "metadata": {},
     "output_type": "execute_result"
    }
   ],
   "source": [
    "## extraction_type\n",
    "train_df.extraction_type.value_counts()"
   ]
  },
  {
   "cell_type": "code",
   "execution_count": 169,
   "metadata": {},
   "outputs": [],
   "source": [
    "## extraction_type\n",
    "def extraction_wrangler(row):\n",
    "    if row['extraction_type']=='gravity':\n",
    "        return 'gravity'\n",
    "    elif row['extraction_type']=='nira/tanira':\n",
    "        return 'nira/tanira'\n",
    "    elif row['extraction_type']=='submersible':\n",
    "        return 'submersible'\n",
    "    elif row['extraction_type']=='swn 80':\n",
    "        return 'swn_80'\n",
    "    elif row['extraction_type']=='mono':\n",
    "        return 'mono'\n",
    "    elif row['extraction_type']=='india mark ii':\n",
    "        return 'india_mark_ii'\n",
    "    elif row['extraction_type']=='afridev':\n",
    "        return 'afridev'\n",
    "    elif row['extraction_type']=='ksb':\n",
    "        return 'ksb'\n",
    "    elif row['extraction_type']=='windmill':\n",
    "        return 'windmill'\n",
    "    else:\n",
    "        return 'other'\n",
    "train_df['extraction_type'] = train_df.apply(lambda row: extraction_wrangler(row), axis=1)\n",
    "X_test['extraction_type'] = X_test.apply(lambda row: extraction_wrangler(row), axis=1)"
   ]
  },
  {
   "cell_type": "code",
   "execution_count": 170,
   "metadata": {},
   "outputs": [
    {
     "data": {
      "text/plain": [
       "Government Of Tanzania           9084\n",
       "unknown                          3635\n",
       "Danida                           3114\n",
       "Hesawa                           2202\n",
       "Rwssp                            1374\n",
       "World Bank                       1349\n",
       "Kkkt                             1287\n",
       "World Vision                     1246\n",
       "Unicef                           1057\n",
       "Tasaf                             877\n",
       "District Council                  843\n",
       "Dhv                               829\n",
       "Private Individual                826\n",
       "Dwsp                              811\n",
       "0                                 777\n",
       "Norad                             765\n",
       "Germany Republi                   610\n",
       "Tcrs                              602\n",
       "Ministry Of Water                 590\n",
       "Water                             583\n",
       "Dwe                               484\n",
       "Netherlands                       470\n",
       "Hifab                             450\n",
       "Adb                               448\n",
       "Lga                               442\n",
       "Amref                             425\n",
       "Fini Water                        393\n",
       "Oxfam                             359\n",
       "Wateraid                          333\n",
       "Rc Church                         321\n",
       "                                 ... \n",
       "Mstiiti                             1\n",
       "Msigwa                              1\n",
       "Msikitini                           1\n",
       "Piscope                             1\n",
       "Christan Outrich                    1\n",
       "Game Division                       1\n",
       "Stephano                            1\n",
       "Kizego Jumaa                        1\n",
       "Villege Council                     1\n",
       "Government/school                   1\n",
       "Women Fo Partnership                1\n",
       "Amrefe                              1\n",
       "Germany Missionary                  1\n",
       "Costantine Herman                   1\n",
       "Obadia                              1\n",
       "Hassan Gulam                        1\n",
       "Village Council/ Rose Kawala        1\n",
       "Rdws                                1\n",
       "Drv Na Idara                        1\n",
       "Bakari Chimkube                     1\n",
       "Norad/japan                         1\n",
       "Bingo Foundation Germany            1\n",
       "Resolute Golden Pride Project       1\n",
       "Abdala                              1\n",
       "Dwst                                1\n",
       "Mzee Ngwatu                         1\n",
       "Lake Tanganyika Prodap              1\n",
       "Mh.Chiza                            1\n",
       "Brad                                1\n",
       "Sekondari                           1\n",
       "Name: funder, Length: 1898, dtype: int64"
      ]
     },
     "execution_count": 170,
     "metadata": {},
     "output_type": "execute_result"
    }
   ],
   "source": [
    "## funder\n",
    "train_df.funder.value_counts()"
   ]
  },
  {
   "cell_type": "code",
   "execution_count": 171,
   "metadata": {},
   "outputs": [],
   "source": [
    "## funder\n",
    "def funder_wrangler(row):  \n",
    "    '''Keep top 8 values and set the rest to 'other'''\n",
    "\n",
    "    if row['funder']=='Government Of Tanzania':\n",
    "        return 'gov'\n",
    "    elif row['funder']=='Danida':\n",
    "        return 'danida'\n",
    "    elif row['funder']=='Hesawa':\n",
    "        return 'hesawa'\n",
    "    elif row['funder']=='Rwssp':\n",
    "        return 'rwssp'\n",
    "    elif row['funder']=='World Bank':\n",
    "        return 'world_bank'   \n",
    "    elif row['funder']=='Kkkt':\n",
    "        return 'kkkt'   \n",
    "    elif row['funder']=='World Vision':\n",
    "        return 'world_vision'  \n",
    "    elif row['funder']=='Unicef':\n",
    "        return 'unicef'\n",
    "    else:\n",
    "        return 'other'\n",
    "    \n",
    "train_df['funder'] = train_df.apply(lambda row: funder_wrangler(row), axis=1)\n",
    "X_test['funder'] = X_test.apply(lambda row: funder_wrangler(row), axis=1)"
   ]
  },
  {
   "cell_type": "code",
   "execution_count": 172,
   "metadata": {},
   "outputs": [],
   "source": [
    "## installer\n",
    "# train_df.installer.value_counts()"
   ]
  },
  {
   "cell_type": "code",
   "execution_count": 173,
   "metadata": {},
   "outputs": [],
   "source": [
    "## installer\n",
    "# def installer_wrangler(row):\n",
    "#     '''Keep top 5 values and set the rest to 'other'''\n",
    "#     if row['installer']=='DWE':\n",
    "#         return 'dwe'\n",
    "#     elif row['installer']=='Government':\n",
    "#         return 'gov'\n",
    "#     elif row['installer']=='RWE':\n",
    "#         return 'rwe'\n",
    "#     elif row['installer']=='Commu':\n",
    "#         return 'commu'\n",
    "#     elif row['installer']=='DANIDA':\n",
    "#         return 'danida'\n",
    "#     else:\n",
    "#         return 'other'  \n",
    "\n",
    "# train_df['installer'] = train_df.apply(lambda row: installer_wrangler(row), axis=1)\n",
    "# X_test['installer'] = X_test.apply(lambda row: installer_wrangler(row), axis=1)"
   ]
  },
  {
   "cell_type": "markdown",
   "metadata": {},
   "source": [
    "## 2.5 Ordinal encoding of categorical data"
   ]
  },
  {
   "cell_type": "code",
   "execution_count": 174,
   "metadata": {},
   "outputs": [
    {
     "data": {
      "text/plain": [
       "good        50818\n",
       "salty        5195\n",
       "unknown      1876\n",
       "milky         804\n",
       "colored       490\n",
       "fluoride      217\n",
       "Name: quality_group, dtype: int64"
      ]
     },
     "execution_count": 174,
     "metadata": {},
     "output_type": "execute_result"
    }
   ],
   "source": [
    "# Ordinal encoding: Encode quality_group, quantity_group and payment_type simply with the dictionaries\n",
    "train_df.quality_group.value_counts()"
   ]
  },
  {
   "cell_type": "code",
   "execution_count": 175,
   "metadata": {},
   "outputs": [],
   "source": [
    "order_dict_quality = {\"good\":3,\"salty\":2,\"milky\":2,\"colored\":2,\"fluoride\":2,\"unknown\":1}\n",
    "train_df[\"quality_group_code\"] = [order_dict_quality[item] for item in train_df.quality_group]\n",
    "del train_df[\"quality_group\"]\n",
    "\n",
    "X_test[\"quality_group_code\"] = [order_dict_quality[item] for item in X_test.quality_group]\n",
    "del X_test[\"quality_group\"]"
   ]
  },
  {
   "cell_type": "code",
   "execution_count": 176,
   "metadata": {},
   "outputs": [
    {
     "data": {
      "text/plain": [
       "enough          33186\n",
       "insufficient    15129\n",
       "dry              6246\n",
       "seasonal         4050\n",
       "unknown           789\n",
       "Name: quantity_group, dtype: int64"
      ]
     },
     "execution_count": 176,
     "metadata": {},
     "output_type": "execute_result"
    }
   ],
   "source": [
    "train_df.quantity_group.value_counts()"
   ]
  },
  {
   "cell_type": "code",
   "execution_count": 177,
   "metadata": {},
   "outputs": [],
   "source": [
    "order_dict_quantity = {\"enough\":3,\"insufficient\":2,\"dry\":2,\"seasonal\":2,\"unknown\":1}\n",
    "train_df[\"quantity_group_code\"] = [order_dict_quantity[item] for item in train_df.quantity_group] \n",
    "del train_df[\"quantity_group\"]\n",
    "\n",
    "X_test[\"quantity_group_code\"] = [order_dict_quantity[item] for item in X_test.quantity_group] \n",
    "del X_test[\"quantity_group\"]"
   ]
  },
  {
   "cell_type": "code",
   "execution_count": 178,
   "metadata": {},
   "outputs": [
    {
     "data": {
      "text/plain": [
       "never pay     25348\n",
       "per bucket     8985\n",
       "monthly        8300\n",
       "unknown        8157\n",
       "on failure     3914\n",
       "annually       3642\n",
       "other          1054\n",
       "Name: payment_type, dtype: int64"
      ]
     },
     "execution_count": 178,
     "metadata": {},
     "output_type": "execute_result"
    }
   ],
   "source": [
    "train_df.payment_type.value_counts()"
   ]
  },
  {
   "cell_type": "code",
   "execution_count": 179,
   "metadata": {},
   "outputs": [],
   "source": [
    "order_dict_payment = {\"monthly\":4,\"annually\":4,\"on failure\":3,\"per bucket\":3,\"never pay\":2,\"unknown\":1,\"other\":1}\n",
    "train_df[\"payment_code\"] = [order_dict_payment[item] for item in train_df.payment_type] \n",
    "del train_df[\"payment_type\"]\n",
    "\n",
    "X_test[\"payment_code\"] = [order_dict_payment[item] for item in X_test.payment_type] \n",
    "del X_test[\"payment_type\"]"
   ]
  },
  {
   "cell_type": "markdown",
   "metadata": {},
   "source": [
    "## 2.6 Feature Engineering\n",
    "1. Amount_tsh binary var\n",
    "2. Construction year -> bins\n",
    "3. Date recorded -> convert to datetime -> number of days since the most recent\n",
    "4. Interactions\n",
    "\n",
    "** Long + Lat variable -> tried using zip but models can't process a tuple...-> left as it is for now"
   ]
  },
  {
   "cell_type": "code",
   "execution_count": 180,
   "metadata": {},
   "outputs": [],
   "source": [
    "# 1. Turn amount_tsh to a binary value with the threshold of 200000 based on the EDA above\n",
    "train_df.loc[train_df['amount_tsh'] < 200000, 'amount_tsh'] = 0\n",
    "train_df.loc[train_df['amount_tsh'] >= 200000, 'amount_tsh'] = 1\n",
    "\n",
    "X_test.loc[train_df['amount_tsh'] < 200000, 'amount_tsh'] = 0\n",
    "X_test.loc[train_df['amount_tsh'] >= 200000, 'amount_tsh'] = 1"
   ]
  },
  {
   "cell_type": "code",
   "execution_count": 181,
   "metadata": {},
   "outputs": [],
   "source": [
    "# from shapely.geometry import Point # Shapely for converting latitude/longtitude to geometry\n",
    "# import geopandas as gpd # To create GeodataFrame\n",
    "# import geoplot as gp"
   ]
  },
  {
   "cell_type": "markdown",
   "metadata": {},
   "source": [
    "TO DO: combine lat and long in one variable (for later)"
   ]
  },
  {
   "cell_type": "code",
   "execution_count": 182,
   "metadata": {},
   "outputs": [],
   "source": [
    "# # creating a geometry column \n",
    "# geopoint = [Point(xy) for xy in zip(all_df['longitude'], all_df['latitude'])]\n",
    "# # Coordinate reference system : WGS84\n",
    "# crs = {'init': 'epsg:4326'}\n",
    "# # Creating a Geographic data frame \n",
    "# gdf = gpd.GeoDataFrame(all_df, crs=crs, geometry=geopoint)"
   ]
  },
  {
   "cell_type": "code",
   "execution_count": 183,
   "metadata": {},
   "outputs": [],
   "source": [
    "# gdf.plot(marker='*', markersize=0.2, column=\"label\",legend=True)"
   ]
  },
  {
   "cell_type": "markdown",
   "metadata": {},
   "source": [
    "Yellow spots - functional pumps, green - needs repair, purple - non-functional.\n",
    "\n",
    "As we see, south-est and almost all central and south west pumps are mostly non-functional. Area around the capital (central-south part) is mostly functional as well as north-est pumps. The rest seems unclear. \n",
    "\n",
    "How to use this info for the model? Try to create clusters (for ex around big cities)?"
   ]
  },
  {
   "cell_type": "code",
   "execution_count": 184,
   "metadata": {},
   "outputs": [],
   "source": [
    "# all_df[\"geopoint\"] = [xy for xy in zip(all_df['longitude'], all_df['latitude'])]"
   ]
  },
  {
   "cell_type": "markdown",
   "metadata": {},
   "source": [
    "For now will try to use the \"geopoint\" column in the algorithm, if it works -> standard scaling doesn't work with this column...remove and replace with long and lat columns for now"
   ]
  },
  {
   "cell_type": "code",
   "execution_count": 185,
   "metadata": {},
   "outputs": [],
   "source": [
    "# 2. Construction year -> bins\n",
    "# Turn construction_year into a categorical column containing the following values: '60s', '70s',\n",
    "# '80s', '90s, '00s', '10s', 'unknown'.\n",
    "\n",
    "def construction_wrangler(row):\n",
    "    if row['construction_year'] >= 1960 and row['construction_year'] < 1970:\n",
    "        return '60s'\n",
    "    elif row['construction_year'] >= 1970 and row['construction_year'] < 1980:\n",
    "        return '70s'\n",
    "    elif row['construction_year'] >= 1980 and row['construction_year'] < 1990:\n",
    "        return '80s'\n",
    "    elif row['construction_year'] >= 1990 and row['construction_year'] < 2000:\n",
    "        return '90s'\n",
    "    elif row['construction_year'] >= 2000 and row['construction_year'] < 2010:\n",
    "        return '00s'\n",
    "    elif row['construction_year'] >= 2010:\n",
    "        return '10s'\n",
    "    else:\n",
    "        return 'unknown'\n",
    "    \n",
    "train_df['construction_year'] = train_df.apply(lambda row: construction_wrangler(row), axis=1)\n",
    "X_test['construction_year'] = X_test.apply(lambda row: construction_wrangler(row), axis=1)"
   ]
  },
  {
   "cell_type": "code",
   "execution_count": 186,
   "metadata": {},
   "outputs": [
    {
     "data": {
      "text/plain": [
       "count                   59400\n",
       "unique                    356\n",
       "top       2011-03-15 00:00:00\n",
       "freq                      572\n",
       "first     2002-10-14 00:00:00\n",
       "last      2013-12-03 00:00:00\n",
       "Name: date_recorded, dtype: object"
      ]
     },
     "execution_count": 186,
     "metadata": {},
     "output_type": "execute_result"
    }
   ],
   "source": [
    "# 3. Date_recorded\n",
    "\n",
    "# Let's first convert the column to type datetime. Then change the column to represent the \n",
    "# number of days since the most recently recorded datum we have. The idea being that more \n",
    "# recently recorded pumps might be more likely to be functional than non-functional. \n",
    "\n",
    "train_df.date_recorded = pd.to_datetime(train_df.date_recorded)\n",
    "X_test.date_recorded = pd.to_datetime(X_test.date_recorded)\n",
    "\n",
    "train_df.date_recorded.describe()"
   ]
  },
  {
   "cell_type": "code",
   "execution_count": 187,
   "metadata": {},
   "outputs": [],
   "source": [
    "# The most recent data is 2013-12-03. Subtract each date from this point to obtain a \n",
    "# 'days_since_recorded' column.\n",
    "\n",
    "train_df.date_recorded = pd.datetime(2013, 12, 3) - pd.to_datetime(train_df.date_recorded)\n",
    "train_df.columns = ['days_since_recorded' if x=='date_recorded' else x for x in train_df.columns]\n",
    "train_df.days_since_recorded = train_df.days_since_recorded.astype('timedelta64[D]').astype(int)\n",
    "train_df.days_since_recorded.describe()\n",
    "\n",
    "X_test.date_recorded = pd.datetime(2013, 12, 3) - pd.to_datetime(X_test.date_recorded)\n",
    "X_test.columns = ['days_since_recorded' if x=='date_recorded' else x for x in X_test.columns]\n",
    "X_test.days_since_recorded = X_test.days_since_recorded.astype('timedelta64[D]').astype(int)"
   ]
  },
  {
   "cell_type": "code",
   "execution_count": 188,
   "metadata": {},
   "outputs": [
    {
     "data": {
      "text/plain": [
       "(59400, 22)"
      ]
     },
     "execution_count": 188,
     "metadata": {},
     "output_type": "execute_result"
    }
   ],
   "source": [
    "train_df.shape"
   ]
  },
  {
   "cell_type": "code",
   "execution_count": 189,
   "metadata": {},
   "outputs": [
    {
     "data": {
      "text/plain": [
       "(14850, 21)"
      ]
     },
     "execution_count": 189,
     "metadata": {},
     "output_type": "execute_result"
    }
   ],
   "source": [
    "X_test.shape"
   ]
  },
  {
   "cell_type": "markdown",
   "metadata": {},
   "source": [
    "### Interactions"
   ]
  },
  {
   "cell_type": "code",
   "execution_count": 190,
   "metadata": {},
   "outputs": [
    {
     "data": {
      "text/plain": [
       "['funder',\n",
       " 'basin',\n",
       " 'scheme_management',\n",
       " 'construction_year',\n",
       " 'extraction_type',\n",
       " 'management',\n",
       " 'source',\n",
       " 'source_class',\n",
       " 'waterpoint_type',\n",
       " 'public_meeting',\n",
       " 'permit']"
      ]
     },
     "execution_count": 190,
     "metadata": {},
     "output_type": "execute_result"
    }
   ],
   "source": [
    "cat_vars = [i for i in train_df.columns if type(train_df[i].iloc[0]) == str]\n",
    "cat_vars.append(\"public_meeting\")\n",
    "cat_vars.append(\"permit\")\n",
    "cat_vars"
   ]
  },
  {
   "cell_type": "code",
   "execution_count": 191,
   "metadata": {},
   "outputs": [],
   "source": [
    "import itertools\n",
    "from sklearn import preprocessing"
   ]
  },
  {
   "cell_type": "code",
   "execution_count": 192,
   "metadata": {},
   "outputs": [],
   "source": [
    "interactions = pd.DataFrame(index=train_df.index)\n",
    "\n",
    "# Iterate through each pair of features, combine them into interaction features\n",
    "for col1, col2 in itertools.combinations(cat_vars, r=2):\n",
    "    new_col_name = \"_\".join([col1,col2])\n",
    "    \n",
    "    new_vars = train_df[col1].map(str) + \"_\" + train_df[col2].map(str)\n",
    "    label_encoder = preprocessing.LabelEncoder()\n",
    "    interactions[new_col_name] = label_encoder.fit_transform(new_vars)\n"
   ]
  },
  {
   "cell_type": "code",
   "execution_count": 207,
   "metadata": {},
   "outputs": [
    {
     "ename": "ValueError",
     "evalue": "columns overlap but no suffix specified: Index(['funder_basin', 'funder_scheme_management', 'funder_construction_year',\n       'funder_extraction_type', 'funder_management', 'funder_source',\n       'funder_source_class', 'funder_waterpoint_type',\n       'funder_public_meeting', 'funder_permit', 'basin_scheme_management',\n       'basin_construction_year', 'basin_extraction_type', 'basin_management',\n       'basin_source', 'basin_source_class', 'basin_waterpoint_type',\n       'basin_public_meeting', 'basin_permit',\n       'scheme_management_construction_year',\n       'scheme_management_extraction_type', 'scheme_management_management',\n       'scheme_management_source', 'scheme_management_source_class',\n       'scheme_management_waterpoint_type', 'scheme_management_public_meeting',\n       'scheme_management_permit', 'construction_year_extraction_type',\n       'construction_year_management', 'construction_year_source',\n       'construction_year_source_class', 'construction_year_waterpoint_type',\n       'construction_year_public_meeting', 'construction_year_permit',\n       'extraction_type_management', 'extraction_type_source',\n       'extraction_type_source_class', 'extraction_type_waterpoint_type',\n       'extraction_type_public_meeting', 'extraction_type_permit',\n       'management_source', 'management_source_class',\n       'management_waterpoint_type', 'management_public_meeting',\n       'management_permit', 'source_source_class', 'source_waterpoint_type',\n       'source_public_meeting', 'source_permit',\n       'source_class_waterpoint_type', 'source_class_public_meeting',\n       'source_class_permit', 'waterpoint_type_public_meeting',\n       'waterpoint_type_permit', 'public_meeting_permit'],\n      dtype='object')",
     "output_type": "error",
     "traceback": [
      "\u001b[0;31m---------------------------------------------------------------------------\u001b[0m",
      "\u001b[0;31mValueError\u001b[0m                                Traceback (most recent call last)",
      "\u001b[0;32m<ipython-input-207-d3a864cb6949>\u001b[0m in \u001b[0;36m<module>\u001b[0;34m\u001b[0m\n\u001b[0;32m----> 1\u001b[0;31m \u001b[0mtrain_df\u001b[0m \u001b[0;34m=\u001b[0m \u001b[0mtrain_df\u001b[0m\u001b[0;34m.\u001b[0m\u001b[0mjoin\u001b[0m\u001b[0;34m(\u001b[0m\u001b[0minteractions\u001b[0m\u001b[0;34m)\u001b[0m\u001b[0;34m\u001b[0m\u001b[0;34m\u001b[0m\u001b[0m\n\u001b[0m\u001b[1;32m      2\u001b[0m \u001b[0mX_test\u001b[0m \u001b[0;34m=\u001b[0m \u001b[0mX_test\u001b[0m\u001b[0;34m.\u001b[0m\u001b[0mjoin\u001b[0m\u001b[0;34m(\u001b[0m\u001b[0minteractions\u001b[0m\u001b[0;34m)\u001b[0m\u001b[0;34m\u001b[0m\u001b[0;34m\u001b[0m\u001b[0m\n",
      "\u001b[0;32m/anaconda3/lib/python3.7/site-packages/pandas/core/frame.py\u001b[0m in \u001b[0;36mjoin\u001b[0;34m(self, other, on, how, lsuffix, rsuffix, sort)\u001b[0m\n\u001b[1;32m   6334\u001b[0m         \u001b[0;31m# For SparseDataFrame's benefit\u001b[0m\u001b[0;34m\u001b[0m\u001b[0;34m\u001b[0m\u001b[0;34m\u001b[0m\u001b[0m\n\u001b[1;32m   6335\u001b[0m         return self._join_compat(other, on=on, how=how, lsuffix=lsuffix,\n\u001b[0;32m-> 6336\u001b[0;31m                                  rsuffix=rsuffix, sort=sort)\n\u001b[0m\u001b[1;32m   6337\u001b[0m \u001b[0;34m\u001b[0m\u001b[0m\n\u001b[1;32m   6338\u001b[0m     def _join_compat(self, other, on=None, how='left', lsuffix='', rsuffix='',\n",
      "\u001b[0;32m/anaconda3/lib/python3.7/site-packages/pandas/core/frame.py\u001b[0m in \u001b[0;36m_join_compat\u001b[0;34m(self, other, on, how, lsuffix, rsuffix, sort)\u001b[0m\n\u001b[1;32m   6349\u001b[0m             return merge(self, other, left_on=on, how=how,\n\u001b[1;32m   6350\u001b[0m                          \u001b[0mleft_index\u001b[0m\u001b[0;34m=\u001b[0m\u001b[0mon\u001b[0m \u001b[0;32mis\u001b[0m \u001b[0;32mNone\u001b[0m\u001b[0;34m,\u001b[0m \u001b[0mright_index\u001b[0m\u001b[0;34m=\u001b[0m\u001b[0;32mTrue\u001b[0m\u001b[0;34m,\u001b[0m\u001b[0;34m\u001b[0m\u001b[0;34m\u001b[0m\u001b[0m\n\u001b[0;32m-> 6351\u001b[0;31m                          suffixes=(lsuffix, rsuffix), sort=sort)\n\u001b[0m\u001b[1;32m   6352\u001b[0m         \u001b[0;32melse\u001b[0m\u001b[0;34m:\u001b[0m\u001b[0;34m\u001b[0m\u001b[0;34m\u001b[0m\u001b[0m\n\u001b[1;32m   6353\u001b[0m             \u001b[0;32mif\u001b[0m \u001b[0mon\u001b[0m \u001b[0;32mis\u001b[0m \u001b[0;32mnot\u001b[0m \u001b[0;32mNone\u001b[0m\u001b[0;34m:\u001b[0m\u001b[0;34m\u001b[0m\u001b[0;34m\u001b[0m\u001b[0m\n",
      "\u001b[0;32m/anaconda3/lib/python3.7/site-packages/pandas/core/reshape/merge.py\u001b[0m in \u001b[0;36mmerge\u001b[0;34m(left, right, how, on, left_on, right_on, left_index, right_index, sort, suffixes, copy, indicator, validate)\u001b[0m\n\u001b[1;32m     60\u001b[0m                          \u001b[0mcopy\u001b[0m\u001b[0;34m=\u001b[0m\u001b[0mcopy\u001b[0m\u001b[0;34m,\u001b[0m \u001b[0mindicator\u001b[0m\u001b[0;34m=\u001b[0m\u001b[0mindicator\u001b[0m\u001b[0;34m,\u001b[0m\u001b[0;34m\u001b[0m\u001b[0;34m\u001b[0m\u001b[0m\n\u001b[1;32m     61\u001b[0m                          validate=validate)\n\u001b[0;32m---> 62\u001b[0;31m     \u001b[0;32mreturn\u001b[0m \u001b[0mop\u001b[0m\u001b[0;34m.\u001b[0m\u001b[0mget_result\u001b[0m\u001b[0;34m(\u001b[0m\u001b[0;34m)\u001b[0m\u001b[0;34m\u001b[0m\u001b[0;34m\u001b[0m\u001b[0m\n\u001b[0m\u001b[1;32m     63\u001b[0m \u001b[0;34m\u001b[0m\u001b[0m\n\u001b[1;32m     64\u001b[0m \u001b[0;34m\u001b[0m\u001b[0m\n",
      "\u001b[0;32m/anaconda3/lib/python3.7/site-packages/pandas/core/reshape/merge.py\u001b[0m in \u001b[0;36mget_result\u001b[0;34m(self)\u001b[0m\n\u001b[1;32m    572\u001b[0m \u001b[0;34m\u001b[0m\u001b[0m\n\u001b[1;32m    573\u001b[0m         llabels, rlabels = items_overlap_with_suffix(ldata.items, lsuf,\n\u001b[0;32m--> 574\u001b[0;31m                                                      rdata.items, rsuf)\n\u001b[0m\u001b[1;32m    575\u001b[0m \u001b[0;34m\u001b[0m\u001b[0m\n\u001b[1;32m    576\u001b[0m         \u001b[0mlindexers\u001b[0m \u001b[0;34m=\u001b[0m \u001b[0;34m{\u001b[0m\u001b[0;36m1\u001b[0m\u001b[0;34m:\u001b[0m \u001b[0mleft_indexer\u001b[0m\u001b[0;34m}\u001b[0m \u001b[0;32mif\u001b[0m \u001b[0mleft_indexer\u001b[0m \u001b[0;32mis\u001b[0m \u001b[0;32mnot\u001b[0m \u001b[0;32mNone\u001b[0m \u001b[0;32melse\u001b[0m \u001b[0;34m{\u001b[0m\u001b[0;34m}\u001b[0m\u001b[0;34m\u001b[0m\u001b[0;34m\u001b[0m\u001b[0m\n",
      "\u001b[0;32m/anaconda3/lib/python3.7/site-packages/pandas/core/internals.py\u001b[0m in \u001b[0;36mitems_overlap_with_suffix\u001b[0;34m(left, lsuffix, right, rsuffix)\u001b[0m\n\u001b[1;32m   5242\u001b[0m         \u001b[0;32mif\u001b[0m \u001b[0;32mnot\u001b[0m \u001b[0mlsuffix\u001b[0m \u001b[0;32mand\u001b[0m \u001b[0;32mnot\u001b[0m \u001b[0mrsuffix\u001b[0m\u001b[0;34m:\u001b[0m\u001b[0;34m\u001b[0m\u001b[0;34m\u001b[0m\u001b[0m\n\u001b[1;32m   5243\u001b[0m             raise ValueError('columns overlap but no suffix specified: '\n\u001b[0;32m-> 5244\u001b[0;31m                              '{rename}'.format(rename=to_rename))\n\u001b[0m\u001b[1;32m   5245\u001b[0m \u001b[0;34m\u001b[0m\u001b[0m\n\u001b[1;32m   5246\u001b[0m         \u001b[0;32mdef\u001b[0m \u001b[0mlrenamer\u001b[0m\u001b[0;34m(\u001b[0m\u001b[0mx\u001b[0m\u001b[0;34m)\u001b[0m\u001b[0;34m:\u001b[0m\u001b[0;34m\u001b[0m\u001b[0;34m\u001b[0m\u001b[0m\n",
      "\u001b[0;31mValueError\u001b[0m: columns overlap but no suffix specified: Index(['funder_basin', 'funder_scheme_management', 'funder_construction_year',\n       'funder_extraction_type', 'funder_management', 'funder_source',\n       'funder_source_class', 'funder_waterpoint_type',\n       'funder_public_meeting', 'funder_permit', 'basin_scheme_management',\n       'basin_construction_year', 'basin_extraction_type', 'basin_management',\n       'basin_source', 'basin_source_class', 'basin_waterpoint_type',\n       'basin_public_meeting', 'basin_permit',\n       'scheme_management_construction_year',\n       'scheme_management_extraction_type', 'scheme_management_management',\n       'scheme_management_source', 'scheme_management_source_class',\n       'scheme_management_waterpoint_type', 'scheme_management_public_meeting',\n       'scheme_management_permit', 'construction_year_extraction_type',\n       'construction_year_management', 'construction_year_source',\n       'construction_year_source_class', 'construction_year_waterpoint_type',\n       'construction_year_public_meeting', 'construction_year_permit',\n       'extraction_type_management', 'extraction_type_source',\n       'extraction_type_source_class', 'extraction_type_waterpoint_type',\n       'extraction_type_public_meeting', 'extraction_type_permit',\n       'management_source', 'management_source_class',\n       'management_waterpoint_type', 'management_public_meeting',\n       'management_permit', 'source_source_class', 'source_waterpoint_type',\n       'source_public_meeting', 'source_permit',\n       'source_class_waterpoint_type', 'source_class_public_meeting',\n       'source_class_permit', 'waterpoint_type_public_meeting',\n       'waterpoint_type_permit', 'public_meeting_permit'],\n      dtype='object')"
     ]
    }
   ],
   "source": [
    "train_df = train_df.join(interactions)"
   ]
  },
  {
   "cell_type": "code",
   "execution_count": 208,
   "metadata": {},
   "outputs": [],
   "source": [
    "X_test = X_test.join(interactions)"
   ]
  },
  {
   "cell_type": "markdown",
   "metadata": {},
   "source": [
    "## 2.7 Categorical encoding"
   ]
  },
  {
   "cell_type": "code",
   "execution_count": 194,
   "metadata": {},
   "outputs": [],
   "source": [
    "# Count encoding\n",
    "import category_encoders as ce\n",
    "count_enc = ce.CountEncoder(cols=cat_vars)\n",
    "count_enc.fit(train_df[cat_vars])\n",
    "train_encoded = train_df.join(count_enc.transform(train_df[cat_vars]).add_suffix(\"_count\"))"
   ]
  },
  {
   "cell_type": "code",
   "execution_count": 195,
   "metadata": {},
   "outputs": [],
   "source": [
    "train_encoded = train_encoded.drop(train_encoded[cat_vars], axis=1)"
   ]
  },
  {
   "cell_type": "code",
   "execution_count": 196,
   "metadata": {},
   "outputs": [
    {
     "data": {
      "text/html": [
       "<div>\n",
       "<style scoped>\n",
       "    .dataframe tbody tr th:only-of-type {\n",
       "        vertical-align: middle;\n",
       "    }\n",
       "\n",
       "    .dataframe tbody tr th {\n",
       "        vertical-align: top;\n",
       "    }\n",
       "\n",
       "    .dataframe thead th {\n",
       "        text-align: right;\n",
       "    }\n",
       "</style>\n",
       "<table border=\"1\" class=\"dataframe\">\n",
       "  <thead>\n",
       "    <tr style=\"text-align: right;\">\n",
       "      <th></th>\n",
       "      <th>0</th>\n",
       "      <th>1</th>\n",
       "      <th>amount_tsh</th>\n",
       "      <th>days_since_recorded</th>\n",
       "      <th>region_code</th>\n",
       "      <th>district_code</th>\n",
       "      <th>population</th>\n",
       "      <th>label</th>\n",
       "      <th>quality_group_code</th>\n",
       "      <th>quantity_group_code</th>\n",
       "      <th>...</th>\n",
       "      <th>basin_count</th>\n",
       "      <th>scheme_management_count</th>\n",
       "      <th>construction_year_count</th>\n",
       "      <th>extraction_type_count</th>\n",
       "      <th>management_count</th>\n",
       "      <th>source_count</th>\n",
       "      <th>source_class_count</th>\n",
       "      <th>waterpoint_type_count</th>\n",
       "      <th>public_meeting_count</th>\n",
       "      <th>permit_count</th>\n",
       "    </tr>\n",
       "  </thead>\n",
       "  <tbody>\n",
       "    <tr>\n",
       "      <th>0</th>\n",
       "      <td>0.393952</td>\n",
       "      <td>0.817902</td>\n",
       "      <td>0.0</td>\n",
       "      <td>995</td>\n",
       "      <td>11</td>\n",
       "      <td>5</td>\n",
       "      <td>109</td>\n",
       "      <td>2</td>\n",
       "      <td>3</td>\n",
       "      <td>3</td>\n",
       "      <td>...</td>\n",
       "      <td>5085</td>\n",
       "      <td>36793</td>\n",
       "      <td>7678</td>\n",
       "      <td>26780</td>\n",
       "      <td>40507</td>\n",
       "      <td>17021</td>\n",
       "      <td>45794</td>\n",
       "      <td>28522</td>\n",
       "      <td>51011</td>\n",
       "      <td>17492</td>\n",
       "    </tr>\n",
       "    <tr>\n",
       "      <th>1</th>\n",
       "      <td>0.580239</td>\n",
       "      <td>1.027575</td>\n",
       "      <td>0.0</td>\n",
       "      <td>272</td>\n",
       "      <td>20</td>\n",
       "      <td>2</td>\n",
       "      <td>280</td>\n",
       "      <td>2</td>\n",
       "      <td>3</td>\n",
       "      <td>2</td>\n",
       "      <td>...</td>\n",
       "      <td>10248</td>\n",
       "      <td>4716</td>\n",
       "      <td>5161</td>\n",
       "      <td>26780</td>\n",
       "      <td>6515</td>\n",
       "      <td>2295</td>\n",
       "      <td>13328</td>\n",
       "      <td>28522</td>\n",
       "      <td>3334</td>\n",
       "      <td>38852</td>\n",
       "    </tr>\n",
       "    <tr>\n",
       "      <th>2</th>\n",
       "      <td>-0.411278</td>\n",
       "      <td>0.318203</td>\n",
       "      <td>0.0</td>\n",
       "      <td>281</td>\n",
       "      <td>21</td>\n",
       "      <td>4</td>\n",
       "      <td>250</td>\n",
       "      <td>2</td>\n",
       "      <td>3</td>\n",
       "      <td>3</td>\n",
       "      <td>...</td>\n",
       "      <td>8940</td>\n",
       "      <td>36793</td>\n",
       "      <td>15330</td>\n",
       "      <td>26780</td>\n",
       "      <td>40507</td>\n",
       "      <td>656</td>\n",
       "      <td>13328</td>\n",
       "      <td>6103</td>\n",
       "      <td>51011</td>\n",
       "      <td>38852</td>\n",
       "    </tr>\n",
       "    <tr>\n",
       "      <th>3</th>\n",
       "      <td>-1.036210</td>\n",
       "      <td>-0.324573</td>\n",
       "      <td>0.0</td>\n",
       "      <td>309</td>\n",
       "      <td>90</td>\n",
       "      <td>63</td>\n",
       "      <td>58</td>\n",
       "      <td>0</td>\n",
       "      <td>3</td>\n",
       "      <td>2</td>\n",
       "      <td>...</td>\n",
       "      <td>4493</td>\n",
       "      <td>36793</td>\n",
       "      <td>5578</td>\n",
       "      <td>4764</td>\n",
       "      <td>40507</td>\n",
       "      <td>11075</td>\n",
       "      <td>45794</td>\n",
       "      <td>6103</td>\n",
       "      <td>51011</td>\n",
       "      <td>38852</td>\n",
       "    </tr>\n",
       "  </tbody>\n",
       "</table>\n",
       "<p>4 rows × 77 columns</p>\n",
       "</div>"
      ],
      "text/plain": [
       "          0         1  amount_tsh  days_since_recorded  region_code  \\\n",
       "0  0.393952  0.817902         0.0                  995           11   \n",
       "1  0.580239  1.027575         0.0                  272           20   \n",
       "2 -0.411278  0.318203         0.0                  281           21   \n",
       "3 -1.036210 -0.324573         0.0                  309           90   \n",
       "\n",
       "   district_code  population  label  quality_group_code  quantity_group_code  \\\n",
       "0              5         109      2                   3                    3   \n",
       "1              2         280      2                   3                    2   \n",
       "2              4         250      2                   3                    3   \n",
       "3             63          58      0                   3                    2   \n",
       "\n",
       "       ...       basin_count  scheme_management_count  \\\n",
       "0      ...              5085                    36793   \n",
       "1      ...             10248                     4716   \n",
       "2      ...              8940                    36793   \n",
       "3      ...              4493                    36793   \n",
       "\n",
       "   construction_year_count  extraction_type_count  management_count  \\\n",
       "0                     7678                  26780             40507   \n",
       "1                     5161                  26780              6515   \n",
       "2                    15330                  26780             40507   \n",
       "3                     5578                   4764             40507   \n",
       "\n",
       "   source_count  source_class_count  waterpoint_type_count  \\\n",
       "0         17021               45794                  28522   \n",
       "1          2295               13328                  28522   \n",
       "2           656               13328                   6103   \n",
       "3         11075               45794                   6103   \n",
       "\n",
       "   public_meeting_count  permit_count  \n",
       "0                 51011         17492  \n",
       "1                  3334         38852  \n",
       "2                 51011         38852  \n",
       "3                 51011         38852  \n",
       "\n",
       "[4 rows x 77 columns]"
      ]
     },
     "execution_count": 196,
     "metadata": {},
     "output_type": "execute_result"
    }
   ],
   "source": [
    "train_encoded.head(4)"
   ]
  },
  {
   "cell_type": "code",
   "execution_count": 209,
   "metadata": {},
   "outputs": [],
   "source": [
    "X_test_encoded = X_test.join(count_enc.transform(X_test[cat_vars]).add_suffix(\"_count\"))"
   ]
  },
  {
   "cell_type": "markdown",
   "metadata": {},
   "source": [
    "## 2.8 Feature selection"
   ]
  },
  {
   "cell_type": "code",
   "execution_count": 197,
   "metadata": {},
   "outputs": [
    {
     "name": "stderr",
     "output_type": "stream",
     "text": [
      "/anaconda3/lib/python3.7/site-packages/sklearn/linear_model/logistic.py:432: FutureWarning: Default solver will be changed to 'lbfgs' in 0.22. Specify a solver to silence this warning.\n",
      "  FutureWarning)\n",
      "/anaconda3/lib/python3.7/site-packages/sklearn/linear_model/logistic.py:469: FutureWarning: Default multi_class will be changed to 'auto' in 0.22. Specify the multi_class option to silence this warning.\n",
      "  \"this warning.\", FutureWarning)\n",
      "/anaconda3/lib/python3.7/site-packages/sklearn/svm/base.py:929: ConvergenceWarning: Liblinear failed to converge, increase the number of iterations.\n",
      "  \"the number of iterations.\", ConvergenceWarning)\n"
     ]
    },
    {
     "data": {
      "text/plain": [
       "array([[ 3.93952188e-01,  8.17902276e-01,  9.95000000e+02, ...,\n",
       "         4.57940000e+04,  2.85220000e+04,  1.74920000e+04],\n",
       "       [ 5.80239459e-01,  1.02757534e+00,  2.72000000e+02, ...,\n",
       "         1.33280000e+04,  2.85220000e+04,  3.88520000e+04],\n",
       "       [-4.11278493e-01,  3.18202820e-01,  2.81000000e+02, ...,\n",
       "         1.33280000e+04,  6.10300000e+03,  3.88520000e+04],\n",
       "       ...,\n",
       "       [-5.95983420e-01, -8.97292487e-01,  9.67000000e+02, ...,\n",
       "         4.57940000e+04,  1.74880000e+04,  1.74920000e+04],\n",
       "       [-8.02552076e-01, -6.97817169e-01,  1.00100000e+03, ...,\n",
       "         4.57940000e+04,  1.74880000e+04,  3.88520000e+04],\n",
       "       [-9.59315144e-01, -3.15600932e-01,  9.86000000e+02, ...,\n",
       "         4.57940000e+04,  1.74880000e+04,  3.88520000e+04]])"
      ]
     },
     "execution_count": 197,
     "metadata": {},
     "output_type": "execute_result"
    }
   ],
   "source": [
    "# L1 regularization with logistic regression\n",
    "\n",
    "from sklearn.linear_model import LogisticRegression\n",
    "from sklearn.feature_selection import SelectFromModel\n",
    "\n",
    "X, y = train_encoded[train_encoded.columns.drop(\"label\")], train_encoded['label']\n",
    "\n",
    "# Set the regularization parameter C=1\n",
    "logistic = LogisticRegression(C=1, penalty=\"l1\", random_state=7).fit(X, y)\n",
    "model = SelectFromModel(logistic, prefit=True)\n",
    "\n",
    "X_new = model.transform(X)\n",
    "X_new"
   ]
  },
  {
   "cell_type": "code",
   "execution_count": 198,
   "metadata": {},
   "outputs": [],
   "source": [
    "# Get back the kept features as a DataFrame with dropped columns as all 0s\n",
    "selected_features = pd.DataFrame(model.inverse_transform(X_new), \n",
    "                                 index=X.index,\n",
    "                                 columns=X.columns)\n",
    "\n",
    "# Dropped columns have values of all 0s, keep other columns \n",
    "selected_columns = selected_features.columns[selected_features.var() != 0]"
   ]
  },
  {
   "cell_type": "code",
   "execution_count": 220,
   "metadata": {},
   "outputs": [
    {
     "data": {
      "text/plain": [
       "Index([                                    0,\n",
       "                                           1,\n",
       "                       'days_since_recorded',\n",
       "                               'region_code',\n",
       "                             'district_code',\n",
       "                                'population',\n",
       "                        'quality_group_code',\n",
       "                       'quantity_group_code',\n",
       "                              'payment_code',\n",
       "                              'funder_basin',\n",
       "                  'funder_scheme_management',\n",
       "                  'funder_construction_year',\n",
       "                    'funder_extraction_type',\n",
       "                         'funder_management',\n",
       "                             'funder_source',\n",
       "                       'funder_source_class',\n",
       "                    'funder_waterpoint_type',\n",
       "                     'funder_public_meeting',\n",
       "                             'funder_permit',\n",
       "                   'basin_scheme_management',\n",
       "                   'basin_construction_year',\n",
       "                     'basin_extraction_type',\n",
       "                          'basin_management',\n",
       "                              'basin_source',\n",
       "                        'basin_source_class',\n",
       "                     'basin_waterpoint_type',\n",
       "                      'basin_public_meeting',\n",
       "                              'basin_permit',\n",
       "       'scheme_management_construction_year',\n",
       "         'scheme_management_extraction_type',\n",
       "              'scheme_management_management',\n",
       "                  'scheme_management_source',\n",
       "            'scheme_management_source_class',\n",
       "         'scheme_management_waterpoint_type',\n",
       "          'scheme_management_public_meeting',\n",
       "                  'scheme_management_permit',\n",
       "         'construction_year_extraction_type',\n",
       "              'construction_year_management',\n",
       "                  'construction_year_source',\n",
       "            'construction_year_source_class',\n",
       "         'construction_year_waterpoint_type',\n",
       "          'construction_year_public_meeting',\n",
       "                  'construction_year_permit',\n",
       "                'extraction_type_management',\n",
       "                    'extraction_type_source',\n",
       "              'extraction_type_source_class',\n",
       "           'extraction_type_waterpoint_type',\n",
       "            'extraction_type_public_meeting',\n",
       "                    'extraction_type_permit',\n",
       "                         'management_source',\n",
       "                   'management_source_class',\n",
       "                'management_waterpoint_type',\n",
       "                 'management_public_meeting',\n",
       "                         'management_permit',\n",
       "                       'source_source_class',\n",
       "                    'source_waterpoint_type',\n",
       "                     'source_public_meeting',\n",
       "                             'source_permit',\n",
       "              'source_class_waterpoint_type',\n",
       "               'source_class_public_meeting',\n",
       "                       'source_class_permit',\n",
       "            'waterpoint_type_public_meeting',\n",
       "                    'waterpoint_type_permit',\n",
       "                     'public_meeting_permit',\n",
       "                               'basin_count',\n",
       "                   'scheme_management_count',\n",
       "                   'construction_year_count',\n",
       "                     'extraction_type_count',\n",
       "                          'management_count',\n",
       "                              'source_count',\n",
       "                        'source_class_count',\n",
       "                     'waterpoint_type_count',\n",
       "                              'permit_count'],\n",
       "      dtype='object')"
      ]
     },
     "execution_count": 220,
     "metadata": {},
     "output_type": "execute_result"
    }
   ],
   "source": [
    "selected_columns"
   ]
  },
  {
   "cell_type": "code",
   "execution_count": 216,
   "metadata": {},
   "outputs": [],
   "source": [
    "train_df_final = train_encoded[selected_columns].join(y)"
   ]
  },
  {
   "cell_type": "code",
   "execution_count": 210,
   "metadata": {},
   "outputs": [],
   "source": [
    "X_test_final = X_test_encoded[selected_columns]"
   ]
  },
  {
   "cell_type": "code",
   "execution_count": 222,
   "metadata": {},
   "outputs": [
    {
     "data": {
      "text/plain": [
       "RandomForestClassifier(bootstrap=True, class_weight=None, criterion='gini',\n",
       "                       max_depth=None, max_features='auto', max_leaf_nodes=None,\n",
       "                       min_impurity_decrease=0.0, min_impurity_split=None,\n",
       "                       min_samples_leaf=1, min_samples_split=8,\n",
       "                       min_weight_fraction_leaf=0.0, n_estimators=1000,\n",
       "                       n_jobs=None, oob_score=False, random_state=7, verbose=0,\n",
       "                       warm_start=False)"
      ]
     },
     "execution_count": 222,
     "metadata": {},
     "output_type": "execute_result"
    }
   ],
   "source": [
    "# feature importances with Random Forest\n",
    "\n",
    "from sklearn.ensemble import RandomForestClassifier\n",
    "\n",
    "rf = RandomForestClassifier(criterion='gini',min_samples_split=8, n_estimators=1000,\n",
    "                           random_state = 7)\n",
    "rf.fit(X, y)"
   ]
  },
  {
   "cell_type": "code",
   "execution_count": 223,
   "metadata": {},
   "outputs": [],
   "source": [
    "# helper function for creating a feature importance dataframe\n",
    "def imp_df(column_names, importances):\n",
    "    df = pd.DataFrame({'feature': column_names,\n",
    "                       'feature_importance': importances}) \\\n",
    "           .sort_values('feature_importance', ascending = False) \\\n",
    "           .reset_index(drop = True)\n",
    "    return df\n",
    "\n",
    "# plotting a feature importance dataframe (horizontal barchart)\n",
    "def var_imp_plot(imp_df, title):\n",
    "    imp_df.columns = ['feature', 'feature_importance']\n",
    "    sns.barplot(x = 'feature_importance', y = 'feature', data = imp_df, orient = 'h', color = 'royalblue') \\\n",
    "       .set_title(title, fontsize = 20)"
   ]
  },
  {
   "cell_type": "code",
   "execution_count": 243,
   "metadata": {},
   "outputs": [],
   "source": [
    "base_imp = imp_df(X.columns, rf.feature_importances_)\n",
    "top_30_imp = base_imp[0:30]\n",
    "top_30_features = top_30_imp.feature"
   ]
  },
  {
   "cell_type": "code",
   "execution_count": 231,
   "metadata": {},
   "outputs": [],
   "source": [
    "pylab.rcParams[\"figure.figsize\"] = (10,10)"
   ]
  },
  {
   "cell_type": "code",
   "execution_count": 232,
   "metadata": {},
   "outputs": [
    {
     "data": {
      "image/png": "[encoded data removed]",
      "text/plain": [
       "<Figure size 720x720 with 1 Axes>"
      ]
     },
     "metadata": {
      "needs_background": "light"
     },
     "output_type": "display_data"
    }
   ],
   "source": [
    "var_imp_plot(base_imp, 'Default feature importance (scikit-learn)')"
   ]
  },
  {
   "cell_type": "code",
   "execution_count": 244,
   "metadata": {},
   "outputs": [],
   "source": [
    "train_df_final_top_imp = train_encoded[top_30_features].join(y)\n",
    "X_test_final_top_imp = X_test_encoded[top_30_features]"
   ]
  },
  {
   "cell_type": "raw",
   "metadata": {},
   "source": [
    "## 2.7 Dummy variable creation for categorical data\n"
   ]
  },
  {
   "cell_type": "raw",
   "metadata": {},
   "source": [
    "dummy_cols = [i for i in train_df.columns if type(train_df[i].iloc[0]) == str]\n",
    "dummy_cols.append(\"public_meeting\")\n",
    "dummy_cols.append(\"permit\")"
   ]
  },
  {
   "cell_type": "raw",
   "metadata": {},
   "source": [
    "dummy_cols"
   ]
  },
  {
   "cell_type": "raw",
   "metadata": {},
   "source": [
    "# Get dummy columns for the categorical columns and shuffle the data.\n",
    "\n",
    "train_df = pd.get_dummies(train_df, columns = dummy_cols, drop_first=True)\n",
    "train_df = train_df.sample(frac=1).reset_index(drop=True)\n",
    "\n",
    "X_test = pd.get_dummies(X_test, columns = dummy_cols, drop_first=True)"
   ]
  },
  {
   "cell_type": "code",
   "execution_count": 245,
   "metadata": {},
   "outputs": [
    {
     "data": {
      "text/plain": [
       "(59400, 74)"
      ]
     },
     "execution_count": 245,
     "metadata": {},
     "output_type": "execute_result"
    }
   ],
   "source": [
    "train_df_final.shape"
   ]
  },
  {
   "cell_type": "markdown",
   "metadata": {},
   "source": [
    "## 2.8 Export the final dfs"
   ]
  },
  {
   "cell_type": "code",
   "execution_count": 246,
   "metadata": {},
   "outputs": [],
   "source": [
    "train_df_final_top_imp.to_csv(\"train_df_final.csv\", index=False)\n",
    "X_test_final_top_imp.to_csv(\"X_test_final.csv\", index=False)"
   ]
  },
  {
   "cell_type": "code",
   "execution_count": 247,
   "metadata": {},
   "outputs": [
    {
     "ename": "ModuleNotFoundError",
     "evalue": "No module named 'google'",
     "output_type": "error",
     "traceback": [
      "\u001b[0;31m---------------------------------------------------------------------------\u001b[0m",
      "\u001b[0;31mModuleNotFoundError\u001b[0m                       Traceback (most recent call last)",
      "\u001b[0;32m<ipython-input-247-1035661e8528>\u001b[0m in \u001b[0;36m<module>\u001b[0;34m\u001b[0m\n\u001b[0;32m----> 1\u001b[0;31m \u001b[0;32mfrom\u001b[0m \u001b[0mgoogle\u001b[0m\u001b[0;34m.\u001b[0m\u001b[0mcloud\u001b[0m \u001b[0;32mimport\u001b[0m \u001b[0mbigquery\u001b[0m\u001b[0;34m\u001b[0m\u001b[0;34m\u001b[0m\u001b[0m\n\u001b[0m",
      "\u001b[0;31mModuleNotFoundError\u001b[0m: No module named 'google'"
     ]
    }
   ],
   "source": [
    "from google.cloud import bigquery"
   ]
  },
  {
   "cell_type": "code",
   "execution_count": null,
   "metadata": {},
   "outputs": [],
   "source": []
  }
 ],
 "metadata": {
  "kernelspec": {
   "display_name": "Python 3",
   "language": "python",
   "name": "python3"
  },
  "language_info": {
   "codemirror_mode": {
    "name": "ipython",
    "version": 3
   },
   "file_extension": ".py",
   "mimetype": "text/x-python",
   "name": "python",
   "nbconvert_exporter": "python",
   "pygments_lexer": "ipython3",
   "version": "3.7.1"
  }
 },
 "nbformat": 4,
 "nbformat_minor": 1
}
