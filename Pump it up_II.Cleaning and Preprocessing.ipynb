{
 "cells": [
  {
   "cell_type": "markdown",
   "metadata": {
    "_cell_guid": "79c7e3d0-c299-4dcb-8224-4455121ee9b0",
    "_uuid": "d629ff2d2480ee46fbb7e2d37f6b5fab8052498a",
    "collapsed": true
   },
   "source": [
    "# *Pump-it-up project*\n",
    "\n",
    "### Can you predict which water pumps are faulty?\n",
    "\n",
    "## Goal\n",
    "Using data from Taarifa and the Tanzanian Ministry of Water, predict which pumps are functional, which need some repairs, and which don't work at all based on a number of variables about what kind of pump is operating, when it was installed, and how it is managed. \n",
    "\n",
    "A smart understanding of which waterpoints will fail can improve maintenance operations and ensure that clean, potable water is available to communities across Tanzania."
   ]
  },
  {
   "cell_type": "markdown",
   "metadata": {},
   "source": [
    "# II. Data Cleaning & Preprocessing\n",
    "## 1. Libraries and input data"
   ]
  },
  {
   "cell_type": "code",
   "execution_count": 522,
   "metadata": {},
   "outputs": [
    {
     "name": "stdout",
     "output_type": "stream",
     "text": [
      "Setup Complete\n"
     ]
    }
   ],
   "source": [
    "import pandas as pd\n",
    "import numpy as np\n",
    "import seaborn as sns\n",
    "import matplotlib.pyplot as plt\n",
    "import matplotlib.pylab as pylab\n",
    "%matplotlib inline\n",
    "\n",
    "print(\"Setup Complete\")"
   ]
  },
  {
   "cell_type": "code",
   "execution_count": 432,
   "metadata": {},
   "outputs": [],
   "source": [
    "# Load the data after EDA\n",
    "train_df = pd.read_csv(\"train_df_after_EDA.csv\")\n",
    "X_test = pd.read_csv(\"X_test_after_EDA.csv\")"
   ]
  },
  {
   "cell_type": "markdown",
   "metadata": {},
   "source": [
    "## 2. Dropping similar features"
   ]
  },
  {
   "cell_type": "markdown",
   "metadata": {},
   "source": [
    "The following groups of features\n",
    "\n",
    "- (extraction_type, extraction_type_group, extraction_type_class),\n",
    "- (payment, payment_type),\n",
    "- (water_quality, quality_group),\n",
    "- (source, source_class),\n",
    "- (subvillage, region, region_code, district_code, lga, ward),\n",
    "- (waterpoint_type, waterpoint_type_group)\n",
    "- (scheme_name, scheme_management)\n",
    "\n",
    "contain very similar information, so the correlation between them is high. This way we are risking overfitting the training data by including all the features in our analysis.\n",
    "\n",
    "Besides:\n",
    "\n",
    "num_private is ~99% zeros and has no description, so we cannot interpret it\n",
    "in the wpt_name feature 45k unique values out of 75k observations, not very informative -> drop for now\n",
    "\n",
    "**TO DO**: The correlation between \"construction_year\" and \"gps_height\" is high, but these 2 variables don't have any obvious connection, so explore this correlation further to take a decision.\n",
    "\n",
    "As we saw earlier, there exists quite a strong correlation between district_code and region_code, so we will drop one of these variables. The negative correlation to the target variable of the \"region_code\" is higher than that of the \"district_code\". Keep the variable with higher correlation to the target."
   ]
  },
  {
   "cell_type": "code",
   "execution_count": 433,
   "metadata": {},
   "outputs": [],
   "source": [
    "# drop columns\n",
    "train_df = train_df.drop(['installer','management_group','status_group','id_x','id_y', 'num_private', 'wpt_name', \n",
    "          'recorded_by', 'subvillage', 'scheme_name', 'region', \n",
    "          'quantity', 'water_quality', 'lga','ward', 'source_type', 'payment', \n",
    "          'waterpoint_type_group','extraction_type_group','extraction_type_class'],axis=1)\n",
    "X_test = X_test.drop(['installer','management_group','id', 'num_private', 'wpt_name', \n",
    "          'recorded_by', 'subvillage', 'scheme_name', 'region', \n",
    "          'quantity', 'water_quality', 'lga','ward', 'source_type', 'payment', \n",
    "          'waterpoint_type_group','extraction_type_group','extraction_type_class'],axis=1)"
   ]
  },
  {
   "cell_type": "code",
   "execution_count": 434,
   "metadata": {},
   "outputs": [
    {
     "data": {
      "text/html": [
       "<div>\n",
       "<style scoped>\n",
       "    .dataframe tbody tr th:only-of-type {\n",
       "        vertical-align: middle;\n",
       "    }\n",
       "\n",
       "    .dataframe tbody tr th {\n",
       "        vertical-align: top;\n",
       "    }\n",
       "\n",
       "    .dataframe thead th {\n",
       "        text-align: right;\n",
       "    }\n",
       "</style>\n",
       "<table border=\"1\" class=\"dataframe\">\n",
       "  <thead>\n",
       "    <tr style=\"text-align: right;\">\n",
       "      <th></th>\n",
       "      <th>amount_tsh</th>\n",
       "      <th>date_recorded</th>\n",
       "      <th>funder</th>\n",
       "      <th>gps_height</th>\n",
       "      <th>longitude</th>\n",
       "      <th>latitude</th>\n",
       "      <th>basin</th>\n",
       "      <th>region_code</th>\n",
       "      <th>district_code</th>\n",
       "      <th>population</th>\n",
       "      <th>...</th>\n",
       "      <th>construction_year</th>\n",
       "      <th>extraction_type</th>\n",
       "      <th>management</th>\n",
       "      <th>payment_type</th>\n",
       "      <th>quality_group</th>\n",
       "      <th>quantity_group</th>\n",
       "      <th>source</th>\n",
       "      <th>source_class</th>\n",
       "      <th>waterpoint_type</th>\n",
       "      <th>label</th>\n",
       "    </tr>\n",
       "  </thead>\n",
       "  <tbody>\n",
       "    <tr>\n",
       "      <th>0</th>\n",
       "      <td>6000.0</td>\n",
       "      <td>2011-03-14</td>\n",
       "      <td>Roman</td>\n",
       "      <td>1390</td>\n",
       "      <td>34.938093</td>\n",
       "      <td>-9.856322</td>\n",
       "      <td>Lake Nyasa</td>\n",
       "      <td>11</td>\n",
       "      <td>5</td>\n",
       "      <td>109</td>\n",
       "      <td>...</td>\n",
       "      <td>1999</td>\n",
       "      <td>gravity</td>\n",
       "      <td>vwc</td>\n",
       "      <td>annually</td>\n",
       "      <td>good</td>\n",
       "      <td>enough</td>\n",
       "      <td>spring</td>\n",
       "      <td>groundwater</td>\n",
       "      <td>communal standpipe</td>\n",
       "      <td>2</td>\n",
       "    </tr>\n",
       "    <tr>\n",
       "      <th>1</th>\n",
       "      <td>0.0</td>\n",
       "      <td>2013-03-06</td>\n",
       "      <td>Grumeti</td>\n",
       "      <td>1399</td>\n",
       "      <td>34.698766</td>\n",
       "      <td>-2.147466</td>\n",
       "      <td>Lake Victoria</td>\n",
       "      <td>20</td>\n",
       "      <td>2</td>\n",
       "      <td>280</td>\n",
       "      <td>...</td>\n",
       "      <td>2010</td>\n",
       "      <td>gravity</td>\n",
       "      <td>wug</td>\n",
       "      <td>never pay</td>\n",
       "      <td>good</td>\n",
       "      <td>insufficient</td>\n",
       "      <td>rainwater harvesting</td>\n",
       "      <td>surface</td>\n",
       "      <td>communal standpipe</td>\n",
       "      <td>2</td>\n",
       "    </tr>\n",
       "    <tr>\n",
       "      <th>2</th>\n",
       "      <td>25.0</td>\n",
       "      <td>2013-02-25</td>\n",
       "      <td>Lottery Club</td>\n",
       "      <td>686</td>\n",
       "      <td>37.460664</td>\n",
       "      <td>-3.821329</td>\n",
       "      <td>Pangani</td>\n",
       "      <td>21</td>\n",
       "      <td>4</td>\n",
       "      <td>250</td>\n",
       "      <td>...</td>\n",
       "      <td>2009</td>\n",
       "      <td>gravity</td>\n",
       "      <td>vwc</td>\n",
       "      <td>per bucket</td>\n",
       "      <td>good</td>\n",
       "      <td>enough</td>\n",
       "      <td>dam</td>\n",
       "      <td>surface</td>\n",
       "      <td>communal standpipe multiple</td>\n",
       "      <td>2</td>\n",
       "    </tr>\n",
       "    <tr>\n",
       "      <th>3</th>\n",
       "      <td>0.0</td>\n",
       "      <td>2013-01-28</td>\n",
       "      <td>Unicef</td>\n",
       "      <td>263</td>\n",
       "      <td>38.486161</td>\n",
       "      <td>-11.155298</td>\n",
       "      <td>Ruvuma / Southern Coast</td>\n",
       "      <td>90</td>\n",
       "      <td>63</td>\n",
       "      <td>58</td>\n",
       "      <td>...</td>\n",
       "      <td>1986</td>\n",
       "      <td>submersible</td>\n",
       "      <td>vwc</td>\n",
       "      <td>never pay</td>\n",
       "      <td>good</td>\n",
       "      <td>dry</td>\n",
       "      <td>machine dbh</td>\n",
       "      <td>groundwater</td>\n",
       "      <td>communal standpipe multiple</td>\n",
       "      <td>0</td>\n",
       "    </tr>\n",
       "    <tr>\n",
       "      <th>4</th>\n",
       "      <td>0.0</td>\n",
       "      <td>2011-07-13</td>\n",
       "      <td>Action In A</td>\n",
       "      <td>0</td>\n",
       "      <td>31.130847</td>\n",
       "      <td>-1.825359</td>\n",
       "      <td>Lake Victoria</td>\n",
       "      <td>18</td>\n",
       "      <td>1</td>\n",
       "      <td>0</td>\n",
       "      <td>...</td>\n",
       "      <td>0</td>\n",
       "      <td>gravity</td>\n",
       "      <td>other</td>\n",
       "      <td>never pay</td>\n",
       "      <td>good</td>\n",
       "      <td>seasonal</td>\n",
       "      <td>rainwater harvesting</td>\n",
       "      <td>surface</td>\n",
       "      <td>communal standpipe</td>\n",
       "      <td>2</td>\n",
       "    </tr>\n",
       "  </tbody>\n",
       "</table>\n",
       "<p>5 rows × 23 columns</p>\n",
       "</div>"
      ],
      "text/plain": [
       "   amount_tsh date_recorded        funder  gps_height  longitude   latitude  \\\n",
       "0      6000.0    2011-03-14         Roman        1390  34.938093  -9.856322   \n",
       "1         0.0    2013-03-06       Grumeti        1399  34.698766  -2.147466   \n",
       "2        25.0    2013-02-25  Lottery Club         686  37.460664  -3.821329   \n",
       "3         0.0    2013-01-28        Unicef         263  38.486161 -11.155298   \n",
       "4         0.0    2011-07-13   Action In A           0  31.130847  -1.825359   \n",
       "\n",
       "                     basin  region_code  district_code  population  ...  \\\n",
       "0               Lake Nyasa           11              5         109  ...   \n",
       "1            Lake Victoria           20              2         280  ...   \n",
       "2                  Pangani           21              4         250  ...   \n",
       "3  Ruvuma / Southern Coast           90             63          58  ...   \n",
       "4            Lake Victoria           18              1           0  ...   \n",
       "\n",
       "  construction_year extraction_type management  payment_type quality_group  \\\n",
       "0              1999         gravity        vwc      annually          good   \n",
       "1              2010         gravity        wug     never pay          good   \n",
       "2              2009         gravity        vwc    per bucket          good   \n",
       "3              1986     submersible        vwc     never pay          good   \n",
       "4                 0         gravity      other     never pay          good   \n",
       "\n",
       "  quantity_group                source source_class  \\\n",
       "0         enough                spring  groundwater   \n",
       "1   insufficient  rainwater harvesting      surface   \n",
       "2         enough                   dam      surface   \n",
       "3            dry           machine dbh  groundwater   \n",
       "4       seasonal  rainwater harvesting      surface   \n",
       "\n",
       "               waterpoint_type label  \n",
       "0           communal standpipe     2  \n",
       "1           communal standpipe     2  \n",
       "2  communal standpipe multiple     2  \n",
       "3  communal standpipe multiple     0  \n",
       "4           communal standpipe     2  \n",
       "\n",
       "[5 rows x 23 columns]"
      ]
     },
     "execution_count": 434,
     "metadata": {},
     "output_type": "execute_result"
    }
   ],
   "source": [
    "train_df.head()"
   ]
  },
  {
   "cell_type": "markdown",
   "metadata": {},
   "source": [
    "## 3. Dealing with missing values"
   ]
  },
  {
   "cell_type": "code",
   "execution_count": 435,
   "metadata": {},
   "outputs": [],
   "source": [
    "## Null scheme_management, funder, installer, public_meeting and permit values replace with \"unknown\" text\n",
    "train_df[\"scheme_management\"].fillna(\"unknown\", inplace = True)\n",
    "train_df[\"public_meeting\"].fillna(\"unknown\", inplace = True)\n",
    "train_df[\"permit\"].fillna(\"unknown\", inplace = True)\n",
    "train_df[\"funder\"].fillna(\"unknown\", inplace = True)\n",
    "# train_df[\"installer\"].fillna(\"unknown\", inplace = True)\n",
    "\n",
    "X_test[\"scheme_management\"].fillna(\"unknown\", inplace = True)\n",
    "X_test[\"public_meeting\"].fillna(\"unknown\", inplace = True)\n",
    "X_test[\"permit\"].fillna(\"unknown\", inplace = True)\n",
    "X_test[\"funder\"].fillna(\"unknown\", inplace = True)\n",
    "# X_test[\"installer\"].fillna(\"unknown\", inplace = True)"
   ]
  },
  {
   "cell_type": "code",
   "execution_count": 436,
   "metadata": {},
   "outputs": [
    {
     "data": {
      "text/plain": [
       "waterpoint_type      0\n",
       "source_class         0\n",
       "date_recorded        0\n",
       "funder               0\n",
       "gps_height           0\n",
       "longitude            0\n",
       "latitude             0\n",
       "basin                0\n",
       "region_code          0\n",
       "district_code        0\n",
       "population           0\n",
       "public_meeting       0\n",
       "scheme_management    0\n",
       "permit               0\n",
       "construction_year    0\n",
       "extraction_type      0\n",
       "management           0\n",
       "payment_type         0\n",
       "quality_group        0\n",
       "quantity_group       0\n",
       "source               0\n",
       "amount_tsh           0\n",
       "dtype: int64"
      ]
     },
     "execution_count": 436,
     "metadata": {},
     "output_type": "execute_result"
    }
   ],
   "source": [
    "X_test.isna().sum().sort_values(ascending=False)"
   ]
  },
  {
   "cell_type": "markdown",
   "metadata": {},
   "source": [
    "## ** Transforming data to reduce skew\n",
    "Uni-modal, skewed distributions could potentially be log transformed: \n",
    "* Longtitude\n",
    "* GPS_hight\n",
    "* Region_code\n",
    "\n",
    "** For later"
   ]
  },
  {
   "cell_type": "markdown",
   "metadata": {},
   "source": [
    "## 5. Reducing cardinality\n",
    "### 5.1 Select features"
   ]
  },
  {
   "cell_type": "code",
   "execution_count": 442,
   "metadata": {},
   "outputs": [
    {
     "data": {
      "text/plain": [
       "[('public_meeting', 3),\n",
       " ('permit', 3),\n",
       " ('source_class', 3),\n",
       " ('quantity_group', 5),\n",
       " ('quality_group', 6),\n",
       " ('payment_type', 7),\n",
       " ('waterpoint_type', 7),\n",
       " ('basin', 9),\n",
       " ('source', 10),\n",
       " ('management', 12),\n",
       " ('scheme_management', 13),\n",
       " ('extraction_type', 18),\n",
       " ('date_recorded', 356),\n",
       " ('funder', 1898)]"
      ]
     },
     "execution_count": 442,
     "metadata": {},
     "output_type": "execute_result"
    }
   ],
   "source": [
    "# Get number of unique entries in each column with categorical data\n",
    "cat_vars = train_df.select_dtypes(include='object').columns\n",
    "object_nunique = list(map(lambda col: train_df[col].nunique(), cat_vars))\n",
    "d = dict(zip(cat_vars, object_nunique))\n",
    "\n",
    "# Print number of unique entries by column, in ascending order\n",
    "sorted(d.items(), key=lambda x: x[1])"
   ]
  },
  {
   "cell_type": "markdown",
   "metadata": {},
   "source": [
    "Based on the above analysis:\n",
    "\n",
    "the \"recorded_by\" feature can be dropped as there is only 1 unique value, it doesn't help in predicting.\n",
    "\n",
    "The columns in which values can be ordered we can perform an Ordinal encoding: \n",
    "* quality_group\n",
    "* quantity_group\n",
    "* payment_type\n",
    "\n",
    "The cardinality of the following 2 features should be reduced to 10 and then one-hot encode them or try Binary encoding:\n",
    "* scheme_managenemt\n",
    "* extraction_type\n",
    "\n",
    "What to do with the following 3? The cardinality is too high... : --> will drop at the first model run, later could try Frequency encoding,Binary encoding if reduce cardinality to at least 100.\n",
    "* funder\n",
    "* installer\n",
    "* subvillage\n",
    "\n",
    "The rest can be one-hot encoded as the cardinality is lower than 10:\n",
    "* public_meeting # later -> Binary?\n",
    "* permit # later-> Binary?\n",
    "* source_class\n",
    "* management_group\n",
    "* waterpoint_type_group\n",
    "* source_type\n",
    "* basin\n",
    "\n",
    "### 5.2 Scheme_management"
   ]
  },
  {
   "cell_type": "code",
   "execution_count": 443,
   "metadata": {},
   "outputs": [
    {
     "data": {
      "text/plain": [
       "VWC                 36793\n",
       "WUG                  5206\n",
       "unknown              3877\n",
       "Water authority      3153\n",
       "WUA                  2883\n",
       "Water Board          2748\n",
       "Parastatal           1680\n",
       "Private operator     1063\n",
       "Company              1061\n",
       "Other                 766\n",
       "SWC                    97\n",
       "Trust                  72\n",
       "None                    1\n",
       "Name: scheme_management, dtype: int64"
      ]
     },
     "execution_count": 443,
     "metadata": {},
     "output_type": "execute_result"
    }
   ],
   "source": [
    "train_df.scheme_management.value_counts()"
   ]
  },
  {
   "cell_type": "code",
   "execution_count": 444,
   "metadata": {},
   "outputs": [],
   "source": [
    "## scheme_management\n",
    "def scheme_wrangler(row):\n",
    "    if row['scheme_management']=='VWC':\n",
    "        return 'vwc'\n",
    "    elif row['scheme_management']=='WUG':\n",
    "        return 'wug'\n",
    "    elif row['scheme_management']=='Water authority':\n",
    "        return 'wtr_auth'\n",
    "    elif row['scheme_management']=='WUA':\n",
    "        return 'wua'\n",
    "    elif row['scheme_management']=='Water Board':\n",
    "        return 'wtr_brd'\n",
    "    elif row['scheme_management']=='Parastatal':\n",
    "        return 'parastatal'\n",
    "    elif row['scheme_management']=='Private operator':\n",
    "        return 'pri_optr'\n",
    "    elif row['scheme_management']=='SWC':\n",
    "        return 'swc'\n",
    "    elif row['scheme_management']=='Company':\n",
    "        return 'company'\n",
    "    else:\n",
    "        return 'other'\n",
    "train_df['scheme_management'] = train_df.apply(lambda row: scheme_wrangler(row), axis=1)\n",
    "X_test['scheme_management'] = X_test.apply(lambda row: scheme_wrangler(row), axis=1)"
   ]
  },
  {
   "cell_type": "markdown",
   "metadata": {},
   "source": [
    "### 5.3 Extraction_type"
   ]
  },
  {
   "cell_type": "code",
   "execution_count": 445,
   "metadata": {},
   "outputs": [
    {
     "data": {
      "text/plain": [
       "gravity                      26780\n",
       "nira/tanira                   8154\n",
       "other                         6430\n",
       "submersible                   4764\n",
       "swn 80                        3670\n",
       "mono                          2865\n",
       "india mark ii                 2400\n",
       "afridev                       1770\n",
       "ksb                           1415\n",
       "other - rope pump              451\n",
       "other - swn 81                 229\n",
       "windmill                       117\n",
       "india mark iii                  98\n",
       "cemo                            90\n",
       "other - play pump               85\n",
       "walimi                          48\n",
       "climax                          32\n",
       "other - mkulima/shinyanga        2\n",
       "Name: extraction_type, dtype: int64"
      ]
     },
     "execution_count": 445,
     "metadata": {},
     "output_type": "execute_result"
    }
   ],
   "source": [
    "train_df.extraction_type.value_counts()"
   ]
  },
  {
   "cell_type": "code",
   "execution_count": 446,
   "metadata": {},
   "outputs": [],
   "source": [
    "## extraction_type\n",
    "def extraction_wrangler(row):\n",
    "    if row['extraction_type']=='gravity':\n",
    "        return 'gravity'\n",
    "    elif row['extraction_type']=='nira/tanira':\n",
    "        return 'nira/tanira'\n",
    "    elif row['extraction_type']=='submersible':\n",
    "        return 'submersible'\n",
    "    elif row['extraction_type']=='swn 80':\n",
    "        return 'swn_80'\n",
    "    elif row['extraction_type']=='mono':\n",
    "        return 'mono'\n",
    "    elif row['extraction_type']=='india mark ii':\n",
    "        return 'india_mark_ii'\n",
    "    elif row['extraction_type']=='afridev':\n",
    "        return 'afridev'\n",
    "    elif row['extraction_type']=='ksb':\n",
    "        return 'ksb'\n",
    "    elif row['extraction_type']=='windmill':\n",
    "        return 'windmill'\n",
    "    else:\n",
    "        return 'other'\n",
    "train_df['extraction_type'] = train_df.apply(lambda row: extraction_wrangler(row), axis=1)\n",
    "X_test['extraction_type'] = X_test.apply(lambda row: extraction_wrangler(row), axis=1)"
   ]
  },
  {
   "cell_type": "markdown",
   "metadata": {},
   "source": [
    "### 5.4 Funder"
   ]
  },
  {
   "cell_type": "code",
   "execution_count": 447,
   "metadata": {},
   "outputs": [
    {
     "data": {
      "text/plain": [
       "Government Of Tanzania    9084\n",
       "unknown                   3635\n",
       "Danida                    3114\n",
       "Hesawa                    2202\n",
       "Rwssp                     1374\n",
       "                          ... \n",
       "Muslim Society               1\n",
       "Mbwana Omari                 1\n",
       "Village Communi              1\n",
       "Rajab Seleman                1\n",
       "Agape Churc                  1\n",
       "Name: funder, Length: 1898, dtype: int64"
      ]
     },
     "execution_count": 447,
     "metadata": {},
     "output_type": "execute_result"
    }
   ],
   "source": [
    "train_df.funder.value_counts()"
   ]
  },
  {
   "cell_type": "code",
   "execution_count": 448,
   "metadata": {},
   "outputs": [],
   "source": [
    "## funder\n",
    "def funder_wrangler(row):  \n",
    "    '''Keep top 8 values and set the rest to 'other'''\n",
    "\n",
    "    if row['funder']=='Government Of Tanzania':\n",
    "        return 'gov'\n",
    "    elif row['funder']=='Danida':\n",
    "        return 'danida'\n",
    "    elif row['funder']=='Hesawa':\n",
    "        return 'hesawa'\n",
    "    elif row['funder']=='Rwssp':\n",
    "        return 'rwssp'\n",
    "    elif row['funder']=='World Bank':\n",
    "        return 'world_bank'   \n",
    "    elif row['funder']=='Kkkt':\n",
    "        return 'kkkt'   \n",
    "    elif row['funder']=='World Vision':\n",
    "        return 'world_vision'  \n",
    "    elif row['funder']=='Unicef':\n",
    "        return 'unicef'\n",
    "    else:\n",
    "        return 'other'\n",
    "    \n",
    "train_df['funder'] = train_df.apply(lambda row: funder_wrangler(row), axis=1)\n",
    "X_test['funder'] = X_test.apply(lambda row: funder_wrangler(row), axis=1)"
   ]
  },
  {
   "cell_type": "markdown",
   "metadata": {},
   "source": [
    "## 6. Ordinal encoding of categorical data\n",
    "Several categorical features can be encoded in a specific order that follows from the range of its values. By using ordinal encoding instead of one-hot encoding we will avoid creating numerious additional columns and provide some logic to the model on how to evaluate these features. For example for the quality_group variable, the higher the label, the better the water quality, the more likely a pump is functional.\n",
    "\n",
    "### 6.1 Quality_group"
   ]
  },
  {
   "cell_type": "code",
   "execution_count": 449,
   "metadata": {},
   "outputs": [
    {
     "data": {
      "text/plain": [
       "good        50818\n",
       "salty        5195\n",
       "unknown      1876\n",
       "milky         804\n",
       "colored       490\n",
       "fluoride      217\n",
       "Name: quality_group, dtype: int64"
      ]
     },
     "execution_count": 449,
     "metadata": {},
     "output_type": "execute_result"
    }
   ],
   "source": [
    "train_df.quality_group.value_counts()"
   ]
  },
  {
   "cell_type": "code",
   "execution_count": 450,
   "metadata": {},
   "outputs": [],
   "source": [
    "order_dict_quality = {\"good\":3,\"salty\":2,\"milky\":2,\"colored\":2,\"fluoride\":2,\"unknown\":1}\n",
    "train_df[\"quality_group_code\"] = [order_dict_quality[item] for item in train_df.quality_group]\n",
    "del train_df[\"quality_group\"]\n",
    "\n",
    "X_test[\"quality_group_code\"] = [order_dict_quality[item] for item in X_test.quality_group]\n",
    "del X_test[\"quality_group\"]"
   ]
  },
  {
   "cell_type": "markdown",
   "metadata": {},
   "source": [
    "### 6.2 Quantity_group"
   ]
  },
  {
   "cell_type": "code",
   "execution_count": 451,
   "metadata": {},
   "outputs": [
    {
     "data": {
      "text/plain": [
       "enough          33186\n",
       "insufficient    15129\n",
       "dry              6246\n",
       "seasonal         4050\n",
       "unknown           789\n",
       "Name: quantity_group, dtype: int64"
      ]
     },
     "execution_count": 451,
     "metadata": {},
     "output_type": "execute_result"
    }
   ],
   "source": [
    "train_df.quantity_group.value_counts()"
   ]
  },
  {
   "cell_type": "code",
   "execution_count": 452,
   "metadata": {},
   "outputs": [],
   "source": [
    "order_dict_quantity = {\"enough\":3,\"insufficient\":2,\"dry\":2,\"seasonal\":2,\"unknown\":1}\n",
    "train_df[\"quantity_group_code\"] = [order_dict_quantity[item] for item in train_df.quantity_group] \n",
    "del train_df[\"quantity_group\"]\n",
    "\n",
    "X_test[\"quantity_group_code\"] = [order_dict_quantity[item] for item in X_test.quantity_group] \n",
    "del X_test[\"quantity_group\"]"
   ]
  },
  {
   "cell_type": "markdown",
   "metadata": {},
   "source": [
    "### 6.3 Payment_type"
   ]
  },
  {
   "cell_type": "code",
   "execution_count": 453,
   "metadata": {},
   "outputs": [
    {
     "data": {
      "text/plain": [
       "never pay     25348\n",
       "per bucket     8985\n",
       "monthly        8300\n",
       "unknown        8157\n",
       "on failure     3914\n",
       "annually       3642\n",
       "other          1054\n",
       "Name: payment_type, dtype: int64"
      ]
     },
     "execution_count": 453,
     "metadata": {},
     "output_type": "execute_result"
    }
   ],
   "source": [
    "train_df.payment_type.value_counts()"
   ]
  },
  {
   "cell_type": "code",
   "execution_count": 454,
   "metadata": {},
   "outputs": [],
   "source": [
    "order_dict_payment = {\"monthly\":4,\"annually\":4,\"on failure\":3,\"per bucket\":3,\"never pay\":2,\"unknown\":1,\"other\":1}\n",
    "train_df[\"payment_code\"] = [order_dict_payment[item] for item in train_df.payment_type] \n",
    "del train_df[\"payment_type\"]\n",
    "\n",
    "X_test[\"payment_code\"] = [order_dict_payment[item] for item in X_test.payment_type] \n",
    "del X_test[\"payment_type\"]"
   ]
  },
  {
   "cell_type": "markdown",
   "metadata": {},
   "source": [
    "### 6.4 Public_meeting"
   ]
  },
  {
   "cell_type": "code",
   "execution_count": 455,
   "metadata": {},
   "outputs": [
    {
     "data": {
      "text/plain": [
       "True       51011\n",
       "False       5055\n",
       "unknown     3334\n",
       "Name: public_meeting, dtype: int64"
      ]
     },
     "execution_count": 455,
     "metadata": {},
     "output_type": "execute_result"
    }
   ],
   "source": [
    "train_df.public_meeting.value_counts()"
   ]
  },
  {
   "cell_type": "code",
   "execution_count": 456,
   "metadata": {},
   "outputs": [],
   "source": [
    "order_dict_pub_meet = {True:2,False:1,\"unknown\":0}\n",
    "train_df[\"public_meeting_code\"] = [order_dict_pub_meet[item] for item in train_df.public_meeting] \n",
    "del train_df[\"public_meeting\"]\n",
    "\n",
    "X_test[\"public_meeting_code\"] = [order_dict_pub_meet[item] for item in X_test.public_meeting] \n",
    "del X_test[\"public_meeting\"]"
   ]
  },
  {
   "cell_type": "markdown",
   "metadata": {},
   "source": [
    "### 6.5 Permit"
   ]
  },
  {
   "cell_type": "code",
   "execution_count": 457,
   "metadata": {},
   "outputs": [
    {
     "data": {
      "text/plain": [
       "True       38852\n",
       "False      17492\n",
       "unknown     3056\n",
       "Name: permit, dtype: int64"
      ]
     },
     "execution_count": 457,
     "metadata": {},
     "output_type": "execute_result"
    }
   ],
   "source": [
    "train_df.permit.value_counts()"
   ]
  },
  {
   "cell_type": "code",
   "execution_count": 458,
   "metadata": {},
   "outputs": [],
   "source": [
    "order_dict_permit = {True:2,False:1,\"unknown\":0}\n",
    "train_df[\"permit_code\"] = [order_dict_pub_meet[item] for item in train_df.permit] \n",
    "del train_df[\"permit\"]\n",
    "\n",
    "X_test[\"permit_code\"] = [order_dict_pub_meet[item] for item in X_test.permit] \n",
    "del X_test[\"permit\"]"
   ]
  },
  {
   "cell_type": "markdown",
   "metadata": {},
   "source": [
    "## 7. Feature Engineering\n",
    "\n",
    "Feature engineering is a powerful way to improve the model. We will create new variables based on the features in the dataset that will better describe the target.\n",
    "\n",
    "### 7.1 Amount_tsh\n",
    "Based on the EDA we have previously defined a threshold to separate functional and non-functional pumps. Let's create a new binary variable that reflects this information."
   ]
  },
  {
   "cell_type": "code",
   "execution_count": 459,
   "metadata": {},
   "outputs": [],
   "source": [
    "train_df.loc[train_df['amount_tsh'] < 200000, 'amount_tsh'] = 0\n",
    "train_df.loc[train_df['amount_tsh'] >= 200000, 'amount_tsh'] = 1\n",
    "\n",
    "X_test.loc[train_df['amount_tsh'] < 200000, 'amount_tsh'] = 0\n",
    "X_test.loc[train_df['amount_tsh'] >= 200000, 'amount_tsh'] = 1"
   ]
  },
  {
   "cell_type": "markdown",
   "metadata": {},
   "source": [
    "### 7.2 Combine longitude and latitude in one feature\n",
    "In this section we tried to create a new variable that would combine both longitude and latitude using a zip method. "
   ]
  },
  {
   "cell_type": "raw",
   "metadata": {},
   "source": [
    "from shapely.geometry import Point # Shapely for converting latitude/longtitude to geometry\n",
    "import geopandas as gpd # To create GeodataFrame\n",
    "import geoplot as gp"
   ]
  },
  {
   "cell_type": "raw",
   "metadata": {},
   "source": [
    "# creating a geometry column \n",
    "geopoint = [Point(xy) for xy in zip(train_df['longitude'], train_df['latitude'])]\n",
    "# Coordinate reference system : WGS84\n",
    "crs = {'init': 'epsg:4326'}\n",
    "# Creating a Geographic data frame \n",
    "gdf = gpd.GeoDataFrame(train_df, crs=crs, geometry=geopoint)"
   ]
  },
  {
   "cell_type": "raw",
   "metadata": {},
   "source": [
    "gdf.plot(marker='*', markersize=0.2, column=\"label\",legend=True)"
   ]
  },
  {
   "cell_type": "markdown",
   "metadata": {},
   "source": [
    "Yellow spots - functional pumps, green - needs repair, purple - non-functional.\n",
    "\n",
    "As we see, south-est and almost all central and south west pumps are mostly non-functional. Area around the capital (central-south part) is mostly functional as well as north-est pumps. The rest seems unclear. \n",
    "\n",
    "How to use this info for the model? Try to create clusters (for ex around big cities)?"
   ]
  },
  {
   "cell_type": "raw",
   "metadata": {},
   "source": [
    "all_df[\"geopoint\"] = [xy for xy in zip(all_df['longitude'], all_df['latitude'])]"
   ]
  },
  {
   "cell_type": "markdown",
   "metadata": {},
   "source": [
    "I have tested this featureand realized that models are unable to process a tuple. We will use the linear discriminant analysis for these variables."
   ]
  },
  {
   "cell_type": "markdown",
   "metadata": {},
   "source": [
    "### 7.3 Linear Discriminant Analysis (LDA)\n",
    "\n",
    "LDA helps reducing dimentiality by maximizing the difference between categories. In our highly dimentional model it is a great tool. We will use LDA for the following columns as all of them contain geographical information:\n",
    " \n",
    "- latitude\n",
    "- longitude\n",
    "- gps_height\n",
    "\n",
    "Reference: https://zlatankr.github.io/posts/2017/01/23/pump-it-up"
   ]
  },
  {
   "cell_type": "code",
   "execution_count": 437,
   "metadata": {},
   "outputs": [],
   "source": [
    "LDA_cols = [\"latitude\",\"longitude\",\"gps_height\"]\n",
    "\n",
    "from sklearn.preprocessing import StandardScaler\n",
    "sc = StandardScaler()\n",
    "\n",
    "train_df_sc = sc.fit_transform(train_df[LDA_cols])\n",
    "X_test_sc = sc.transform(X_test[LDA_cols])\n",
    "\n",
    "from sklearn.discriminant_analysis import LinearDiscriminantAnalysis as LDA\n",
    "lda = LDA(n_components=None)\n",
    "\n",
    "train_df_lda = lda.fit_transform(train_df_sc, train_df.label.values.ravel())\n",
    "X_test_lda = lda.transform(X_test_sc)\n",
    "\n",
    "train_df = pd.concat((pd.DataFrame(train_df_lda), train_df), axis=1)\n",
    "X_test = pd.concat((pd.DataFrame(X_test_lda), X_test), axis=1)\n",
    "    \n",
    "    \n",
    "for i in LDA_cols:\n",
    "    del train_df[i]\n",
    "    del X_test[i]"
   ]
  },
  {
   "cell_type": "code",
   "execution_count": 441,
   "metadata": {},
   "outputs": [],
   "source": [
    "train_df.rename(columns={0: \"LDA_0\",1:\"LDA_1\"},inplace=True)\n",
    "X_test.rename(columns={0: \"LDA_0\",1:\"LDA_1\"},inplace=True)"
   ]
  },
  {
   "cell_type": "markdown",
   "metadata": {},
   "source": [
    "### 7.4 Construction year\n",
    "We will turn construction_year into a categorical column with bins containing the following values: '60s', '70s', '80s', '90s, '00s', '10s', 'unknown'."
   ]
  },
  {
   "cell_type": "code",
   "execution_count": 464,
   "metadata": {},
   "outputs": [],
   "source": [
    "def construction_wrangler(row):\n",
    "    if row['construction_year'] >= 1960 and row['construction_year'] < 1970:\n",
    "        return '60s'\n",
    "    elif row['construction_year'] >= 1970 and row['construction_year'] < 1980:\n",
    "        return '70s'\n",
    "    elif row['construction_year'] >= 1980 and row['construction_year'] < 1990:\n",
    "        return '80s'\n",
    "    elif row['construction_year'] >= 1990 and row['construction_year'] < 2000:\n",
    "        return '90s'\n",
    "    elif row['construction_year'] >= 2000 and row['construction_year'] < 2010:\n",
    "        return '00s'\n",
    "    elif row['construction_year'] >= 2010:\n",
    "        return '10s'\n",
    "    else:\n",
    "        return 'unknown'\n",
    "    \n",
    "train_df['construction_year'] = train_df.apply(lambda row: construction_wrangler(row), axis=1)\n",
    "X_test['construction_year'] = X_test.apply(lambda row: construction_wrangler(row), axis=1)"
   ]
  },
  {
   "cell_type": "markdown",
   "metadata": {},
   "source": [
    "### 7.5 Date_recorded\n",
    "We will calculate the number of days past since the date_recorded of a particular pump till the most recent date of the dataset. The idea being that more recently recorded pumps might be more likely to be functional than non-functional. \n",
    "\n",
    "Let's first convert the column to type datetime. "
   ]
  },
  {
   "cell_type": "code",
   "execution_count": 465,
   "metadata": {},
   "outputs": [
    {
     "data": {
      "text/plain": [
       "count                   59400\n",
       "unique                    356\n",
       "top       2011-03-15 00:00:00\n",
       "freq                      572\n",
       "first     2002-10-14 00:00:00\n",
       "last      2013-12-03 00:00:00\n",
       "Name: date_recorded, dtype: object"
      ]
     },
     "execution_count": 465,
     "metadata": {},
     "output_type": "execute_result"
    }
   ],
   "source": [
    "train_df.date_recorded = pd.to_datetime(train_df.date_recorded)\n",
    "X_test.date_recorded = pd.to_datetime(X_test.date_recorded)\n",
    "\n",
    "train_df.date_recorded.describe()"
   ]
  },
  {
   "cell_type": "code",
   "execution_count": 466,
   "metadata": {},
   "outputs": [
    {
     "name": "stderr",
     "output_type": "stream",
     "text": [
      "/anaconda3/lib/python3.7/site-packages/ipykernel_launcher.py:4: FutureWarning: The pandas.datetime class is deprecated and will be removed from pandas in a future version. Import from datetime module instead.\n",
      "  after removing the cwd from sys.path.\n",
      "/anaconda3/lib/python3.7/site-packages/ipykernel_launcher.py:7: FutureWarning: The pandas.datetime class is deprecated and will be removed from pandas in a future version. Import from datetime module instead.\n",
      "  import sys\n"
     ]
    }
   ],
   "source": [
    "# The most recent data is 2013-12-03. Subtract each date from this point to obtain a \n",
    "# 'days_since_recorded' column.\n",
    "\n",
    "train_df['days_since_recorded'] = pd.datetime(2013, 12, 3) - pd.to_datetime(train_df.date_recorded)\n",
    "train_df['days_since_recorded'] = train_df['days_since_recorded'].astype('timedelta64[D]').astype(int)\n",
    "\n",
    "X_test['days_since_recorded'] = pd.datetime(2013, 12, 3) - pd.to_datetime(X_test.date_recorded)\n",
    "X_test['days_since_recorded'] = X_test['days_since_recorded'].astype('timedelta64[D]').astype(int)"
   ]
  },
  {
   "cell_type": "code",
   "execution_count": 467,
   "metadata": {},
   "outputs": [
    {
     "data": {
      "text/plain": [
       "0         995\n",
       "1         272\n",
       "2         281\n",
       "3         309\n",
       "4         874\n",
       "         ... \n",
       "59395     214\n",
       "59396     941\n",
       "59397     967\n",
       "59398    1001\n",
       "59399     986\n",
       "Name: days_since_recorded, Length: 59400, dtype: int64"
      ]
     },
     "execution_count": 467,
     "metadata": {},
     "output_type": "execute_result"
    }
   ],
   "source": [
    "train_df['days_since_recorded']"
   ]
  },
  {
   "cell_type": "code",
   "execution_count": 468,
   "metadata": {},
   "outputs": [],
   "source": [
    "train_df = train_df.drop(\"date_recorded\",axis=1)\n",
    "X_test = X_test.drop(\"date_recorded\",axis=1)"
   ]
  },
  {
   "cell_type": "code",
   "execution_count": 469,
   "metadata": {},
   "outputs": [
    {
     "data": {
      "text/plain": [
       "(59400, 22)"
      ]
     },
     "execution_count": 469,
     "metadata": {},
     "output_type": "execute_result"
    }
   ],
   "source": [
    "train_df.shape"
   ]
  },
  {
   "cell_type": "code",
   "execution_count": 470,
   "metadata": {},
   "outputs": [
    {
     "data": {
      "text/plain": [
       "(14850, 21)"
      ]
     },
     "execution_count": 470,
     "metadata": {},
     "output_type": "execute_result"
    }
   ],
   "source": [
    "X_test.shape"
   ]
  },
  {
   "cell_type": "markdown",
   "metadata": {},
   "source": [
    "## 8. One-hot encoding of categorical features"
   ]
  },
  {
   "cell_type": "code",
   "execution_count": 471,
   "metadata": {},
   "outputs": [
    {
     "name": "stdout",
     "output_type": "stream",
     "text": [
      "Index(['funder', 'basin', 'scheme_management', 'construction_year',\n",
      "       'extraction_type', 'management', 'source', 'source_class',\n",
      "       'waterpoint_type'],\n",
      "      dtype='object')\n"
     ]
    },
    {
     "data": {
      "text/plain": [
       "9"
      ]
     },
     "execution_count": 471,
     "metadata": {},
     "output_type": "execute_result"
    }
   ],
   "source": [
    "cat_vars = train_df.select_dtypes(include='object').columns\n",
    "print(cat_vars)\n",
    "len(cat_vars)"
   ]
  },
  {
   "cell_type": "code",
   "execution_count": 482,
   "metadata": {},
   "outputs": [],
   "source": [
    "from sklearn.preprocessing import OneHotEncoder\n",
    "\n",
    "# Apply one-hot encoder to each column with categorical data\n",
    "OH_encoder = OneHotEncoder(handle_unknown='ignore', sparse=False)\n",
    "OH_cols_train = pd.DataFrame(OH_encoder.fit_transform(train_df[cat_vars])).astype(np.int64)\n",
    "OH_cols_test = pd.DataFrame(OH_encoder.transform(X_test[cat_vars])).astype(np.int64)\n",
    "\n",
    "# One-hot encoding removed index; put it back\n",
    "OH_cols_train.index = train_df.index\n",
    "OH_cols_test.index = X_test.index\n",
    "\n",
    "OH_cols_train.columns = OH_encoder.get_feature_names(cat_vars)\n",
    "OH_cols_test.columns = OH_encoder.get_feature_names(cat_vars)\n",
    "\n",
    "# Remove categorical columns (will replace with one-hot encoding)\n",
    "num_X_train = train_df.drop(cat_vars, axis=1)\n",
    "num_X_valid = X_test.drop(cat_vars, axis=1)\n",
    "\n",
    "# Add one-hot encoded columns to numerical features\n",
    "OH_train_df = pd.concat([num_X_train, OH_cols_train], axis=1)\n",
    "OH_X_test = pd.concat([num_X_valid, OH_cols_test], axis=1)"
   ]
  },
  {
   "cell_type": "code",
   "execution_count": 483,
   "metadata": {},
   "outputs": [
    {
     "data": {
      "text/html": [
       "<div>\n",
       "<style scoped>\n",
       "    .dataframe tbody tr th:only-of-type {\n",
       "        vertical-align: middle;\n",
       "    }\n",
       "\n",
       "    .dataframe tbody tr th {\n",
       "        vertical-align: top;\n",
       "    }\n",
       "\n",
       "    .dataframe thead th {\n",
       "        text-align: right;\n",
       "    }\n",
       "</style>\n",
       "<table border=\"1\" class=\"dataframe\">\n",
       "  <thead>\n",
       "    <tr style=\"text-align: right;\">\n",
       "      <th></th>\n",
       "      <th>LDA_0</th>\n",
       "      <th>LDA_1</th>\n",
       "      <th>amount_tsh</th>\n",
       "      <th>region_code</th>\n",
       "      <th>district_code</th>\n",
       "      <th>population</th>\n",
       "      <th>label</th>\n",
       "      <th>quality_group_code</th>\n",
       "      <th>quantity_group_code</th>\n",
       "      <th>payment_code</th>\n",
       "      <th>...</th>\n",
       "      <th>source_class_groundwater</th>\n",
       "      <th>source_class_surface</th>\n",
       "      <th>source_class_unknown</th>\n",
       "      <th>waterpoint_type_cattle trough</th>\n",
       "      <th>waterpoint_type_communal standpipe</th>\n",
       "      <th>waterpoint_type_communal standpipe multiple</th>\n",
       "      <th>waterpoint_type_dam</th>\n",
       "      <th>waterpoint_type_hand pump</th>\n",
       "      <th>waterpoint_type_improved spring</th>\n",
       "      <th>waterpoint_type_other</th>\n",
       "    </tr>\n",
       "  </thead>\n",
       "  <tbody>\n",
       "    <tr>\n",
       "      <th>0</th>\n",
       "      <td>0.393952</td>\n",
       "      <td>0.817902</td>\n",
       "      <td>0.0</td>\n",
       "      <td>11</td>\n",
       "      <td>5</td>\n",
       "      <td>109</td>\n",
       "      <td>2</td>\n",
       "      <td>3</td>\n",
       "      <td>3</td>\n",
       "      <td>4</td>\n",
       "      <td>...</td>\n",
       "      <td>1</td>\n",
       "      <td>0</td>\n",
       "      <td>0</td>\n",
       "      <td>0</td>\n",
       "      <td>1</td>\n",
       "      <td>0</td>\n",
       "      <td>0</td>\n",
       "      <td>0</td>\n",
       "      <td>0</td>\n",
       "      <td>0</td>\n",
       "    </tr>\n",
       "    <tr>\n",
       "      <th>1</th>\n",
       "      <td>0.580239</td>\n",
       "      <td>1.027575</td>\n",
       "      <td>0.0</td>\n",
       "      <td>20</td>\n",
       "      <td>2</td>\n",
       "      <td>280</td>\n",
       "      <td>2</td>\n",
       "      <td>3</td>\n",
       "      <td>2</td>\n",
       "      <td>2</td>\n",
       "      <td>...</td>\n",
       "      <td>0</td>\n",
       "      <td>1</td>\n",
       "      <td>0</td>\n",
       "      <td>0</td>\n",
       "      <td>1</td>\n",
       "      <td>0</td>\n",
       "      <td>0</td>\n",
       "      <td>0</td>\n",
       "      <td>0</td>\n",
       "      <td>0</td>\n",
       "    </tr>\n",
       "    <tr>\n",
       "      <th>2</th>\n",
       "      <td>-0.411278</td>\n",
       "      <td>0.318203</td>\n",
       "      <td>0.0</td>\n",
       "      <td>21</td>\n",
       "      <td>4</td>\n",
       "      <td>250</td>\n",
       "      <td>2</td>\n",
       "      <td>3</td>\n",
       "      <td>3</td>\n",
       "      <td>3</td>\n",
       "      <td>...</td>\n",
       "      <td>0</td>\n",
       "      <td>1</td>\n",
       "      <td>0</td>\n",
       "      <td>0</td>\n",
       "      <td>0</td>\n",
       "      <td>1</td>\n",
       "      <td>0</td>\n",
       "      <td>0</td>\n",
       "      <td>0</td>\n",
       "      <td>0</td>\n",
       "    </tr>\n",
       "    <tr>\n",
       "      <th>3</th>\n",
       "      <td>-1.036210</td>\n",
       "      <td>-0.324573</td>\n",
       "      <td>0.0</td>\n",
       "      <td>90</td>\n",
       "      <td>63</td>\n",
       "      <td>58</td>\n",
       "      <td>0</td>\n",
       "      <td>3</td>\n",
       "      <td>2</td>\n",
       "      <td>2</td>\n",
       "      <td>...</td>\n",
       "      <td>1</td>\n",
       "      <td>0</td>\n",
       "      <td>0</td>\n",
       "      <td>0</td>\n",
       "      <td>0</td>\n",
       "      <td>1</td>\n",
       "      <td>0</td>\n",
       "      <td>0</td>\n",
       "      <td>0</td>\n",
       "      <td>0</td>\n",
       "    </tr>\n",
       "    <tr>\n",
       "      <th>4</th>\n",
       "      <td>-0.070855</td>\n",
       "      <td>-0.911349</td>\n",
       "      <td>0.0</td>\n",
       "      <td>18</td>\n",
       "      <td>1</td>\n",
       "      <td>0</td>\n",
       "      <td>2</td>\n",
       "      <td>3</td>\n",
       "      <td>2</td>\n",
       "      <td>2</td>\n",
       "      <td>...</td>\n",
       "      <td>0</td>\n",
       "      <td>1</td>\n",
       "      <td>0</td>\n",
       "      <td>0</td>\n",
       "      <td>1</td>\n",
       "      <td>0</td>\n",
       "      <td>0</td>\n",
       "      <td>0</td>\n",
       "      <td>0</td>\n",
       "      <td>0</td>\n",
       "    </tr>\n",
       "  </tbody>\n",
       "</table>\n",
       "<p>5 rows × 90 columns</p>\n",
       "</div>"
      ],
      "text/plain": [
       "      LDA_0     LDA_1  amount_tsh  region_code  district_code  population  \\\n",
       "0  0.393952  0.817902         0.0           11              5         109   \n",
       "1  0.580239  1.027575         0.0           20              2         280   \n",
       "2 -0.411278  0.318203         0.0           21              4         250   \n",
       "3 -1.036210 -0.324573         0.0           90             63          58   \n",
       "4 -0.070855 -0.911349         0.0           18              1           0   \n",
       "\n",
       "   label  quality_group_code  quantity_group_code  payment_code  ...  \\\n",
       "0      2                   3                    3             4  ...   \n",
       "1      2                   3                    2             2  ...   \n",
       "2      2                   3                    3             3  ...   \n",
       "3      0                   3                    2             2  ...   \n",
       "4      2                   3                    2             2  ...   \n",
       "\n",
       "   source_class_groundwater  source_class_surface  source_class_unknown  \\\n",
       "0                         1                     0                     0   \n",
       "1                         0                     1                     0   \n",
       "2                         0                     1                     0   \n",
       "3                         1                     0                     0   \n",
       "4                         0                     1                     0   \n",
       "\n",
       "   waterpoint_type_cattle trough  waterpoint_type_communal standpipe  \\\n",
       "0                              0                                   1   \n",
       "1                              0                                   1   \n",
       "2                              0                                   0   \n",
       "3                              0                                   0   \n",
       "4                              0                                   1   \n",
       "\n",
       "   waterpoint_type_communal standpipe multiple  waterpoint_type_dam  \\\n",
       "0                                            0                    0   \n",
       "1                                            0                    0   \n",
       "2                                            1                    0   \n",
       "3                                            1                    0   \n",
       "4                                            0                    0   \n",
       "\n",
       "   waterpoint_type_hand pump  waterpoint_type_improved spring  \\\n",
       "0                          0                                0   \n",
       "1                          0                                0   \n",
       "2                          0                                0   \n",
       "3                          0                                0   \n",
       "4                          0                                0   \n",
       "\n",
       "   waterpoint_type_other  \n",
       "0                      0  \n",
       "1                      0  \n",
       "2                      0  \n",
       "3                      0  \n",
       "4                      0  \n",
       "\n",
       "[5 rows x 90 columns]"
      ]
     },
     "execution_count": 483,
     "metadata": {},
     "output_type": "execute_result"
    }
   ],
   "source": [
    "OH_train_df.head()"
   ]
  },
  {
   "cell_type": "markdown",
   "metadata": {},
   "source": [
    "## 9. Feature selection\n",
    "### 9.1 L1 regularization with logistic regression"
   ]
  },
  {
   "cell_type": "code",
   "execution_count": 484,
   "metadata": {},
   "outputs": [
    {
     "name": "stderr",
     "output_type": "stream",
     "text": [
      "/anaconda3/lib/python3.7/site-packages/sklearn/linear_model/_sag.py:330: ConvergenceWarning: The max_iter was reached which means the coef_ did not converge\n",
      "  \"the coef_ did not converge\", ConvergenceWarning)\n"
     ]
    },
    {
     "data": {
      "text/plain": [
       "array([[ 0.39395219,  0.81790228, 11.        , ...,  0.        ,\n",
       "         0.        ,  0.        ],\n",
       "       [ 0.58023946,  1.02757534, 20.        , ...,  0.        ,\n",
       "         0.        ,  0.        ],\n",
       "       [-0.41127849,  0.31820282, 21.        , ...,  0.        ,\n",
       "         0.        ,  0.        ],\n",
       "       ...,\n",
       "       [-0.59598342, -0.89729249, 12.        , ...,  1.        ,\n",
       "         0.        ,  0.        ],\n",
       "       [-0.80255208, -0.69781717,  1.        , ...,  1.        ,\n",
       "         0.        ,  0.        ],\n",
       "       [-0.95931514, -0.31560093,  5.        , ...,  1.        ,\n",
       "         0.        ,  0.        ]])"
      ]
     },
     "execution_count": 484,
     "metadata": {},
     "output_type": "execute_result"
    }
   ],
   "source": [
    "from sklearn.linear_model import LogisticRegression\n",
    "from sklearn.feature_selection import SelectFromModel\n",
    "\n",
    "X, y = OH_train_df[OH_train_df.columns.drop(\"label\")], OH_train_df['label']\n",
    "\n",
    "# Set the regularization parameter C=1\n",
    "logistic = LogisticRegression(solver=\"saga\",C=1, penalty=\"l1\", random_state=7).fit(X, y)\n",
    "model = SelectFromModel(logistic, prefit=True)\n",
    "\n",
    "X_new = model.transform(X)\n",
    "X_new"
   ]
  },
  {
   "cell_type": "code",
   "execution_count": 485,
   "metadata": {},
   "outputs": [],
   "source": [
    "# Get back the kept features as a DataFrame with dropped columns as all 0s\n",
    "selected_features = pd.DataFrame(model.inverse_transform(X_new), \n",
    "                                 index=X.index,\n",
    "                                 columns=X.columns)\n",
    "\n",
    "# Dropped columns have values of all 0s, keep other columns \n",
    "selected_columns = selected_features.columns[selected_features.var() != 0]"
   ]
  },
  {
   "cell_type": "code",
   "execution_count": 501,
   "metadata": {},
   "outputs": [
    {
     "data": {
      "text/plain": [
       "80"
      ]
     },
     "execution_count": 501,
     "metadata": {},
     "output_type": "execute_result"
    }
   ],
   "source": [
    "len(selected_columns)"
   ]
  },
  {
   "cell_type": "code",
   "execution_count": 502,
   "metadata": {},
   "outputs": [
    {
     "data": {
      "text/plain": [
       "Index(['LDA_0', 'LDA_1', 'region_code', 'district_code', 'population',\n",
       "       'quality_group_code', 'quantity_group_code', 'payment_code',\n",
       "       'public_meeting_code', 'permit_code', 'days_since_recorded',\n",
       "       'funder_danida', 'funder_gov', 'funder_hesawa', 'funder_other',\n",
       "       'funder_rwssp', 'funder_unicef', 'funder_world_bank',\n",
       "       'funder_world_vision', 'basin_Internal', 'basin_Lake Nyasa',\n",
       "       'basin_Lake Rukwa', 'basin_Lake Tanganyika', 'basin_Lake Victoria',\n",
       "       'basin_Pangani', 'basin_Rufiji', 'basin_Ruvuma / Southern Coast',\n",
       "       'basin_Wami / Ruvu', 'scheme_management_company',\n",
       "       'scheme_management_other', 'scheme_management_parastatal',\n",
       "       'scheme_management_pri_optr', 'scheme_management_swc',\n",
       "       'scheme_management_vwc', 'scheme_management_wtr_auth',\n",
       "       'scheme_management_wtr_brd', 'scheme_management_wua',\n",
       "       'scheme_management_wug', 'construction_year_00s',\n",
       "       'construction_year_10s', 'construction_year_60s',\n",
       "       'construction_year_70s', 'construction_year_80s',\n",
       "       'construction_year_90s', 'construction_year_unknown',\n",
       "       'extraction_type_afridev', 'extraction_type_gravity',\n",
       "       'extraction_type_india_mark_ii', 'extraction_type_ksb',\n",
       "       'extraction_type_mono', 'extraction_type_nira/tanira',\n",
       "       'extraction_type_other', 'extraction_type_submersible',\n",
       "       'extraction_type_swn_80', 'management_company', 'management_other',\n",
       "       'management_other - school', 'management_parastatal',\n",
       "       'management_private operator', 'management_unknown', 'management_vwc',\n",
       "       'management_water authority', 'management_water board',\n",
       "       'management_wua', 'management_wug', 'source_dam', 'source_hand dtw',\n",
       "       'source_lake', 'source_machine dbh', 'source_rainwater harvesting',\n",
       "       'source_river', 'source_shallow well', 'source_spring',\n",
       "       'source_class_groundwater', 'source_class_surface',\n",
       "       'waterpoint_type_communal standpipe',\n",
       "       'waterpoint_type_communal standpipe multiple',\n",
       "       'waterpoint_type_hand pump', 'waterpoint_type_improved spring',\n",
       "       'waterpoint_type_other'],\n",
       "      dtype='object')"
      ]
     },
     "execution_count": 502,
     "metadata": {},
     "output_type": "execute_result"
    }
   ],
   "source": [
    "selected_columns"
   ]
  },
  {
   "cell_type": "code",
   "execution_count": 509,
   "metadata": {},
   "outputs": [],
   "source": [
    "train_df_selected_features = OH_train_df[selected_columns].join(y)"
   ]
  },
  {
   "cell_type": "code",
   "execution_count": 504,
   "metadata": {},
   "outputs": [],
   "source": [
    "X_test_selected_features = OH_X_test[selected_columns]"
   ]
  },
  {
   "cell_type": "markdown",
   "metadata": {},
   "source": [
    "### 9.2 Feature importances with Random Forest"
   ]
  },
  {
   "cell_type": "code",
   "execution_count": 491,
   "metadata": {},
   "outputs": [
    {
     "data": {
      "text/plain": [
       "RandomForestClassifier(bootstrap=True, ccp_alpha=0.0, class_weight=None,\n",
       "                       criterion='gini', max_depth=None, max_features='auto',\n",
       "                       max_leaf_nodes=None, max_samples=None,\n",
       "                       min_impurity_decrease=0.0, min_impurity_split=None,\n",
       "                       min_samples_leaf=1, min_samples_split=8,\n",
       "                       min_weight_fraction_leaf=0.0, n_estimators=1000,\n",
       "                       n_jobs=None, oob_score=False, random_state=7, verbose=0,\n",
       "                       warm_start=False)"
      ]
     },
     "execution_count": 491,
     "metadata": {},
     "output_type": "execute_result"
    }
   ],
   "source": [
    "from sklearn.ensemble import RandomForestClassifier\n",
    "\n",
    "rf = RandomForestClassifier(criterion='gini',min_samples_split=8, n_estimators=1000,\n",
    "                           random_state = 7)\n",
    "rf.fit(X, y)"
   ]
  },
  {
   "cell_type": "code",
   "execution_count": 492,
   "metadata": {},
   "outputs": [],
   "source": [
    "# helper function for creating a feature importance dataframe\n",
    "def imp_df(column_names, importances):\n",
    "    df = pd.DataFrame({'feature': column_names,\n",
    "                       'feature_importance': importances}) \\\n",
    "           .sort_values('feature_importance', ascending = False) \\\n",
    "           .reset_index(drop = True)\n",
    "    return df\n",
    "\n",
    "# plotting a feature importance dataframe (horizontal barchart)\n",
    "def var_imp_plot(imp_df, title):\n",
    "    imp_df.columns = ['feature', 'feature_importance']\n",
    "    sns.barplot(x = 'feature_importance', y = 'feature', data = imp_df, orient = 'h', color = 'royalblue') \\\n",
    "       .set_title(title, fontsize = 20)"
   ]
  },
  {
   "cell_type": "code",
   "execution_count": 493,
   "metadata": {},
   "outputs": [],
   "source": [
    "base_imp = imp_df(X.columns, rf.feature_importances_)\n",
    "top_30_imp = base_imp[0:30]\n",
    "top_30_features = top_30_imp.feature"
   ]
  },
  {
   "cell_type": "code",
   "execution_count": 499,
   "metadata": {},
   "outputs": [],
   "source": [
    "pylab.rcParams[\"figure.figsize\"] = (10,10)"
   ]
  },
  {
   "cell_type": "code",
   "execution_count": 500,
   "metadata": {},
   "outputs": [
    {
     "data": {
      "image/png": "[encoded data removed]",
      "text/plain": [
       "<Figure size 720x720 with 1 Axes>"
      ]
     },
     "metadata": {
      "needs_background": "light"
     },
     "output_type": "display_data"
    }
   ],
   "source": [
    "var_imp_plot(base_imp, 'Default feature importance (scikit-learn)')"
   ]
  },
  {
   "cell_type": "code",
   "execution_count": 505,
   "metadata": {},
   "outputs": [],
   "source": [
    "train_df_final_top_imp = OH_train_df[top_30_features].join(y)\n",
    "X_test_final_top_imp = OH_X_test[top_30_features]"
   ]
  },
  {
   "cell_type": "code",
   "execution_count": 507,
   "metadata": {},
   "outputs": [
    {
     "data": {
      "text/plain": [
       "(59400, 31)"
      ]
     },
     "execution_count": 507,
     "metadata": {},
     "output_type": "execute_result"
    }
   ],
   "source": [
    "train_df_final_top_imp.shape"
   ]
  },
  {
   "cell_type": "code",
   "execution_count": 511,
   "metadata": {},
   "outputs": [
    {
     "data": {
      "text/plain": [
       "(59400, 81)"
      ]
     },
     "execution_count": 511,
     "metadata": {},
     "output_type": "execute_result"
    }
   ],
   "source": [
    "train_df_selected_features.shape"
   ]
  },
  {
   "cell_type": "markdown",
   "metadata": {},
   "source": [
    "## 10. Export the final dfs\n",
    "\n",
    "In the part *III. Model selection* I have tested different models with these 2 final sets of variables (80 vars and 30 vars). The result seems to be stable across all the models - the set of 80 variables we received after doing L1 regularization with logistic regression scores higher every time. I am thus using the selected_features dfs as the final input."
   ]
  },
  {
   "cell_type": "code",
   "execution_count": 513,
   "metadata": {},
   "outputs": [],
   "source": [
    "train_df_selected_features.to_csv(\"train_df_final.csv\", index=False)\n",
    "X_test_selected_features.to_csv(\"X_test_final.csv\", index=False)"
   ]
  }
 ],
 "metadata": {
  "kernelspec": {
   "display_name": "Python 3",
   "language": "python",
   "name": "python3"
  },
  "language_info": {
   "codemirror_mode": {
    "name": "ipython",
    "version": 3
   },
   "file_extension": ".py",
   "mimetype": "text/x-python",
   "name": "python",
   "nbconvert_exporter": "python",
   "pygments_lexer": "ipython3",
   "version": "3.7.6"
  }
 },
 "nbformat": 4,
 "nbformat_minor": 1
}
